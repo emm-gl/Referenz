{
  "cells": [
    {
      "cell_type": "markdown",
      "metadata": {
        "id": "view-in-github",
        "colab_type": "text"
      },
      "source": [
        "<a href=\"https://colab.research.google.com/github/emm-gl/Referenz/blob/master/A1.ipynb\" target=\"_parent\"><img src=\"https://colab.research.google.com/assets/colab-badge.svg\" alt=\"Open In Colab\"/></a>"
      ]
    },
    {
      "cell_type": "code",
      "execution_count": 2,
      "metadata": {
        "colab": {
          "base_uri": "https://localhost:8080/"
        },
        "id": "jT6y-E0K7Ane",
        "outputId": "4a17e1ef-ddd0-4e43-ccee-1ae9446b0b09"
      },
      "outputs": [
        {
          "output_type": "stream",
          "name": "stdout",
          "text": [
            "Mounted at /content/drive/\n"
          ]
        }
      ],
      "source": [
        "import tensorflow as tf\n",
        "from tensorflow.keras.datasets import mnist\n",
        "import numpy as np\n",
        "from tensorflow.keras.utils import to_categorical\n",
        "import cv2\n",
        "import matplotlib as plt\n",
        "\n",
        "from google.colab import drive\n",
        "drive.mount('/content/drive/')\n",
        "\n",
        "import glob\n",
        "\n",
        "from skimage. feature import hog\n",
        "import matplotlib.image as mpimg\n",
        "import matplotlib.pyplot as plt\n",
        "import seaborn as sns\n",
        "\n",
        "from PIL import Image\n",
        "import os\n",
        "\n"
      ]
    },
    {
      "cell_type": "code",
      "source": [
        "# Data\n",
        "x_test_path = '/content/drive/MyDrive/Datasets/Test.npy'\n",
        "x_train_path = '/content/drive/MyDrive/Datasets/Train.npy'\n",
        "y_test_path = '/content/drive/MyDrive/Datasets/y_test.npy'\n",
        "y_train_path = '/content/drive/MyDrive/Datasets/y_train.npy'\n",
        "\n",
        "x_test = np.load(x_test_path)\n",
        "x_train = np.load(x_train_path)\n",
        "y_test = np.load(y_test_path)\n",
        "y_train = np.load(y_train_path)"
      ],
      "metadata": {
        "id": "db9V8rJwXPIA"
      },
      "execution_count": 17,
      "outputs": []
    },
    {
      "cell_type": "code",
      "execution_count": 18,
      "metadata": {
        "colab": {
          "base_uri": "https://localhost:8080/"
        },
        "id": "BRYDrBqSBNx_",
        "outputId": "d939aeca-9930-45a6-b3e9-b253bab6ebe7"
      },
      "outputs": [
        {
          "output_type": "stream",
          "name": "stdout",
          "text": [
            "(39209, 28, 28)\n",
            "(12630, 28, 28)\n",
            "(39209,)\n",
            "(12630,)\n"
          ]
        }
      ],
      "source": [
        "print(x_train.shape)\n",
        "print(x_test.shape)\n",
        "print(y_train.shape)\n",
        "print(y_test.shape)"
      ]
    },
    {
      "cell_type": "code",
      "execution_count": null,
      "metadata": {
        "id": "lEh0kBIV_Q0w"
      },
      "outputs": [],
      "source": [
        "import matplotlib.pyplot as plt\n",
        "filas = 2\n",
        "columnas = 8\n",
        "num = filas*columnas\n",
        "imagenes = x_train[0:num]\n",
        "etiquetas = y_train[0:num]\n",
        "fig, axes = plt.subplots(filas, columnas, figsize=(1.5*columnas,2*filas))\n",
        "for i in range(num):\n",
        "     ax = axes[i//columnas, i%columnas]\n",
        "     ax.imshow(imagenes[i].reshape(28,28), cmap='gray_r')\n",
        "     ax.set_title('Label: {}'.format(np.argmax(etiquetas[i])))\n",
        "plt.tight_layout()\n",
        "plt.show()\n"
      ]
    }
  ],
  "metadata": {
    "accelerator": "GPU",
    "colab": {
      "provenance": [],
      "authorship_tag": "ABX9TyNdgZ+Hoj+EuVNY4pdQIvTK",
      "include_colab_link": true
    },
    "kernelspec": {
      "display_name": "Python 3",
      "name": "python3"
    },
    "language_info": {
      "name": "python"
    }
  },
  "nbformat": 4,
  "nbformat_minor": 0
}