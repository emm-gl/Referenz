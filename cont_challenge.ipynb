{
  "cells": [
    {
      "cell_type": "markdown",
      "metadata": {
        "id": "view-in-github",
        "colab_type": "text"
      },
      "source": [
        "<a href=\"https://colab.research.google.com/github/emm-gl/Referenz/blob/master/cont_challenge.ipynb\" target=\"_parent\"><img src=\"https://colab.research.google.com/assets/colab-badge.svg\" alt=\"Open In Colab\"/></a>"
      ]
    },
    {
      "cell_type": "markdown",
      "source": [
        "## Task Description\n",
        "\n",
        "The overall target of the task is:\n",
        "1. Extraction of timeseries data for actual temperature (TEMPERATUR INNEN_IST) and pressure (DRUCK INNEN_IST) values per cycle, based on the overall timeseries data within the give timeframe (2024-04-08 00:00:00 until 2024-04-10 23:59:59).\n",
        "2. Plot a set of temperature / pressure curves (line plot per cycle).\n",
        "3. Describe your data transformation steps in a small document (can be PowerPoint Presentation or Markdown File).\n",
        "4. BONUS (optional): Detect cycles that are not okay based on the average shape of the actual temperature (TEMPERATUR INNEN_IST) and pressure (DRUCK INNEN_IST) values per cycle."
      ],
      "metadata": {
        "id": "c3r5oZ1FSCpe"
      }
    },
    {
      "cell_type": "code",
      "source": [
        "import pandas as pd\n",
        "import os\n",
        "import pyarrow.parquet as pq\n",
        "from datetime import datetime\n",
        "import matplotlib.pyplot as plt"
      ],
      "metadata": {
        "id": "4vhSdecB2ZOb"
      },
      "execution_count": 1,
      "outputs": []
    },
    {
      "cell_type": "code",
      "source": [
        "from google.colab import drive\n",
        "drive.mount('/content/drive')"
      ],
      "metadata": {
        "colab": {
          "base_uri": "https://localhost:8080/"
        },
        "id": "6KaOzNJLnq_Y",
        "outputId": "470cf261-1c1b-494c-afcc-b22b5ba23ebe"
      },
      "execution_count": 2,
      "outputs": [
        {
          "output_type": "stream",
          "name": "stdout",
          "text": [
            "Drive already mounted at /content/drive; to attempt to forcibly remount, call drive.mount(\"/content/drive\", force_remount=True).\n"
          ]
        }
      ]
    },
    {
      "cell_type": "markdown",
      "source": [
        "##Loading data:\n"
      ],
      "metadata": {
        "id": "8jJi9hfmlSSh"
      }
    },
    {
      "cell_type": "markdown",
      "source": [
        "####Get the config file:"
      ],
      "metadata": {
        "id": "zJvg0rbDRLYw"
      }
    },
    {
      "cell_type": "code",
      "source": [
        "# Specify the path of JSON file in Google Drive\n",
        "json_file_path = \"/content/drive/My Drive/continental_challenge/ct-oesl-hiring-challenge-main/data/config/datapoints.json\"\n",
        "\n",
        "# Load the JSON file into a DataFrame\n",
        "df_config = pd.read_json(json_file_path)\n",
        "\n",
        "# Display the DataFrame\n",
        "df_config"
      ],
      "metadata": {
        "colab": {
          "base_uri": "https://localhost:8080/",
          "height": 423
        },
        "id": "GVJriTsaQTbI",
        "outputId": "74e7d6c9-9749-43f5-dd52-b6aa55c414de"
      },
      "execution_count": 7,
      "outputs": [
        {
          "output_type": "execute_result",
          "data": {
            "text/plain": [
              "                                     uuid  \\\n",
              "0    00f9c223-6fd4-45ec-8ee2-62b9458c98fc   \n",
              "1    9d7f979a-c50e-494c-9ee0-082eabe3143f   \n",
              "2    8a1c7509-3c14-4f8f-b81c-0d44190ea305   \n",
              "3    6a295488-d312-4c35-9c35-7347488f9846   \n",
              "4    5cbb4233-dcbb-4e96-9111-0f0c36633303   \n",
              "..                                    ...   \n",
              "315  13e090fc-7683-4c8b-863f-0816dce05f55   \n",
              "316  c053ad11-d895-4d7a-b02a-aa95f80b6618   \n",
              "317  df83a9c8-aac7-4331-b6b5-a36d8d5c8c7d   \n",
              "318  2af6484d-a002-4404-ba05-30b960e8a9ba   \n",
              "319  0d4cb538-eab3-47c9-a999-8b3a2ad8338f   \n",
              "\n",
              "                                           label  \\\n",
              "0                 BETRIEBSINTERNE AUFTRAGSNUMMER   \n",
              "1                                SAP BEZEICHNUNG   \n",
              "2                                  ARTIKELNUMMER   \n",
              "3                             AUFTRAGSMENGE_SOLL   \n",
              "4                              AUFTRAGSMENGE_IST   \n",
              "..                                           ...   \n",
              "315                           DATEN.MIN_SOLLTEMP   \n",
              "316                               DATEN.ISTDRUCK   \n",
              "317  ANALOGE_ISTWERTE.IST_TEMPERATUR.ISTWERT_INT   \n",
              "318         ANALOGE_ISTWERTE.PEW_518.ISTWERT_INT   \n",
              "319         ANALOGE_ISTWERTE.PEW_526.EINGANGSTYP   \n",
              "\n",
              "                                                config  \n",
              "0    {'rate': 'diff', 'source': {'name': 'datablock...  \n",
              "1    {'rate': 'diff', 'source': {'name': 'datablock...  \n",
              "2    {'rate': 'diff', 'source': {'name': 'datablock...  \n",
              "3    {'rate': 'diff', 'source': {'name': 'datablock...  \n",
              "4    {'rate': 'diff', 'source': {'name': 'datablock...  \n",
              "..                                                 ...  \n",
              "315  {'rate': 'diff', 'source': {'name': 'datablock...  \n",
              "316  {'rate': 'diff', 'source': {'name': 'datablock...  \n",
              "317  {'rate': 'diff', 'source': {'name': 'datablock...  \n",
              "318  {'rate': 'diff', 'source': {'name': 'datablock...  \n",
              "319  {'rate': 'diff', 'source': {'name': 'datablock...  \n",
              "\n",
              "[320 rows x 3 columns]"
            ],
            "text/html": [
              "\n",
              "  <div id=\"df-61d99344-35e4-4230-b85b-7a33bd358096\" class=\"colab-df-container\">\n",
              "    <div>\n",
              "<style scoped>\n",
              "    .dataframe tbody tr th:only-of-type {\n",
              "        vertical-align: middle;\n",
              "    }\n",
              "\n",
              "    .dataframe tbody tr th {\n",
              "        vertical-align: top;\n",
              "    }\n",
              "\n",
              "    .dataframe thead th {\n",
              "        text-align: right;\n",
              "    }\n",
              "</style>\n",
              "<table border=\"1\" class=\"dataframe\">\n",
              "  <thead>\n",
              "    <tr style=\"text-align: right;\">\n",
              "      <th></th>\n",
              "      <th>uuid</th>\n",
              "      <th>label</th>\n",
              "      <th>config</th>\n",
              "    </tr>\n",
              "  </thead>\n",
              "  <tbody>\n",
              "    <tr>\n",
              "      <th>0</th>\n",
              "      <td>00f9c223-6fd4-45ec-8ee2-62b9458c98fc</td>\n",
              "      <td>BETRIEBSINTERNE AUFTRAGSNUMMER</td>\n",
              "      <td>{'rate': 'diff', 'source': {'name': 'datablock...</td>\n",
              "    </tr>\n",
              "    <tr>\n",
              "      <th>1</th>\n",
              "      <td>9d7f979a-c50e-494c-9ee0-082eabe3143f</td>\n",
              "      <td>SAP BEZEICHNUNG</td>\n",
              "      <td>{'rate': 'diff', 'source': {'name': 'datablock...</td>\n",
              "    </tr>\n",
              "    <tr>\n",
              "      <th>2</th>\n",
              "      <td>8a1c7509-3c14-4f8f-b81c-0d44190ea305</td>\n",
              "      <td>ARTIKELNUMMER</td>\n",
              "      <td>{'rate': 'diff', 'source': {'name': 'datablock...</td>\n",
              "    </tr>\n",
              "    <tr>\n",
              "      <th>3</th>\n",
              "      <td>6a295488-d312-4c35-9c35-7347488f9846</td>\n",
              "      <td>AUFTRAGSMENGE_SOLL</td>\n",
              "      <td>{'rate': 'diff', 'source': {'name': 'datablock...</td>\n",
              "    </tr>\n",
              "    <tr>\n",
              "      <th>4</th>\n",
              "      <td>5cbb4233-dcbb-4e96-9111-0f0c36633303</td>\n",
              "      <td>AUFTRAGSMENGE_IST</td>\n",
              "      <td>{'rate': 'diff', 'source': {'name': 'datablock...</td>\n",
              "    </tr>\n",
              "    <tr>\n",
              "      <th>...</th>\n",
              "      <td>...</td>\n",
              "      <td>...</td>\n",
              "      <td>...</td>\n",
              "    </tr>\n",
              "    <tr>\n",
              "      <th>315</th>\n",
              "      <td>13e090fc-7683-4c8b-863f-0816dce05f55</td>\n",
              "      <td>DATEN.MIN_SOLLTEMP</td>\n",
              "      <td>{'rate': 'diff', 'source': {'name': 'datablock...</td>\n",
              "    </tr>\n",
              "    <tr>\n",
              "      <th>316</th>\n",
              "      <td>c053ad11-d895-4d7a-b02a-aa95f80b6618</td>\n",
              "      <td>DATEN.ISTDRUCK</td>\n",
              "      <td>{'rate': 'diff', 'source': {'name': 'datablock...</td>\n",
              "    </tr>\n",
              "    <tr>\n",
              "      <th>317</th>\n",
              "      <td>df83a9c8-aac7-4331-b6b5-a36d8d5c8c7d</td>\n",
              "      <td>ANALOGE_ISTWERTE.IST_TEMPERATUR.ISTWERT_INT</td>\n",
              "      <td>{'rate': 'diff', 'source': {'name': 'datablock...</td>\n",
              "    </tr>\n",
              "    <tr>\n",
              "      <th>318</th>\n",
              "      <td>2af6484d-a002-4404-ba05-30b960e8a9ba</td>\n",
              "      <td>ANALOGE_ISTWERTE.PEW_518.ISTWERT_INT</td>\n",
              "      <td>{'rate': 'diff', 'source': {'name': 'datablock...</td>\n",
              "    </tr>\n",
              "    <tr>\n",
              "      <th>319</th>\n",
              "      <td>0d4cb538-eab3-47c9-a999-8b3a2ad8338f</td>\n",
              "      <td>ANALOGE_ISTWERTE.PEW_526.EINGANGSTYP</td>\n",
              "      <td>{'rate': 'diff', 'source': {'name': 'datablock...</td>\n",
              "    </tr>\n",
              "  </tbody>\n",
              "</table>\n",
              "<p>320 rows × 3 columns</p>\n",
              "</div>\n",
              "    <div class=\"colab-df-buttons\">\n",
              "\n",
              "  <div class=\"colab-df-container\">\n",
              "    <button class=\"colab-df-convert\" onclick=\"convertToInteractive('df-61d99344-35e4-4230-b85b-7a33bd358096')\"\n",
              "            title=\"Convert this dataframe to an interactive table.\"\n",
              "            style=\"display:none;\">\n",
              "\n",
              "  <svg xmlns=\"http://www.w3.org/2000/svg\" height=\"24px\" viewBox=\"0 -960 960 960\">\n",
              "    <path d=\"M120-120v-720h720v720H120Zm60-500h600v-160H180v160Zm220 220h160v-160H400v160Zm0 220h160v-160H400v160ZM180-400h160v-160H180v160Zm440 0h160v-160H620v160ZM180-180h160v-160H180v160Zm440 0h160v-160H620v160Z\"/>\n",
              "  </svg>\n",
              "    </button>\n",
              "\n",
              "  <style>\n",
              "    .colab-df-container {\n",
              "      display:flex;\n",
              "      gap: 12px;\n",
              "    }\n",
              "\n",
              "    .colab-df-convert {\n",
              "      background-color: #E8F0FE;\n",
              "      border: none;\n",
              "      border-radius: 50%;\n",
              "      cursor: pointer;\n",
              "      display: none;\n",
              "      fill: #1967D2;\n",
              "      height: 32px;\n",
              "      padding: 0 0 0 0;\n",
              "      width: 32px;\n",
              "    }\n",
              "\n",
              "    .colab-df-convert:hover {\n",
              "      background-color: #E2EBFA;\n",
              "      box-shadow: 0px 1px 2px rgba(60, 64, 67, 0.3), 0px 1px 3px 1px rgba(60, 64, 67, 0.15);\n",
              "      fill: #174EA6;\n",
              "    }\n",
              "\n",
              "    .colab-df-buttons div {\n",
              "      margin-bottom: 4px;\n",
              "    }\n",
              "\n",
              "    [theme=dark] .colab-df-convert {\n",
              "      background-color: #3B4455;\n",
              "      fill: #D2E3FC;\n",
              "    }\n",
              "\n",
              "    [theme=dark] .colab-df-convert:hover {\n",
              "      background-color: #434B5C;\n",
              "      box-shadow: 0px 1px 3px 1px rgba(0, 0, 0, 0.15);\n",
              "      filter: drop-shadow(0px 1px 2px rgba(0, 0, 0, 0.3));\n",
              "      fill: #FFFFFF;\n",
              "    }\n",
              "  </style>\n",
              "\n",
              "    <script>\n",
              "      const buttonEl =\n",
              "        document.querySelector('#df-61d99344-35e4-4230-b85b-7a33bd358096 button.colab-df-convert');\n",
              "      buttonEl.style.display =\n",
              "        google.colab.kernel.accessAllowed ? 'block' : 'none';\n",
              "\n",
              "      async function convertToInteractive(key) {\n",
              "        const element = document.querySelector('#df-61d99344-35e4-4230-b85b-7a33bd358096');\n",
              "        const dataTable =\n",
              "          await google.colab.kernel.invokeFunction('convertToInteractive',\n",
              "                                                    [key], {});\n",
              "        if (!dataTable) return;\n",
              "\n",
              "        const docLinkHtml = 'Like what you see? Visit the ' +\n",
              "          '<a target=\"_blank\" href=https://colab.research.google.com/notebooks/data_table.ipynb>data table notebook</a>'\n",
              "          + ' to learn more about interactive tables.';\n",
              "        element.innerHTML = '';\n",
              "        dataTable['output_type'] = 'display_data';\n",
              "        await google.colab.output.renderOutput(dataTable, element);\n",
              "        const docLink = document.createElement('div');\n",
              "        docLink.innerHTML = docLinkHtml;\n",
              "        element.appendChild(docLink);\n",
              "      }\n",
              "    </script>\n",
              "  </div>\n",
              "\n",
              "\n",
              "<div id=\"df-8c598e39-c414-49ed-b28f-c042a93c5c5c\">\n",
              "  <button class=\"colab-df-quickchart\" onclick=\"quickchart('df-8c598e39-c414-49ed-b28f-c042a93c5c5c')\"\n",
              "            title=\"Suggest charts\"\n",
              "            style=\"display:none;\">\n",
              "\n",
              "<svg xmlns=\"http://www.w3.org/2000/svg\" height=\"24px\"viewBox=\"0 0 24 24\"\n",
              "     width=\"24px\">\n",
              "    <g>\n",
              "        <path d=\"M19 3H5c-1.1 0-2 .9-2 2v14c0 1.1.9 2 2 2h14c1.1 0 2-.9 2-2V5c0-1.1-.9-2-2-2zM9 17H7v-7h2v7zm4 0h-2V7h2v10zm4 0h-2v-4h2v4z\"/>\n",
              "    </g>\n",
              "</svg>\n",
              "  </button>\n",
              "\n",
              "<style>\n",
              "  .colab-df-quickchart {\n",
              "      --bg-color: #E8F0FE;\n",
              "      --fill-color: #1967D2;\n",
              "      --hover-bg-color: #E2EBFA;\n",
              "      --hover-fill-color: #174EA6;\n",
              "      --disabled-fill-color: #AAA;\n",
              "      --disabled-bg-color: #DDD;\n",
              "  }\n",
              "\n",
              "  [theme=dark] .colab-df-quickchart {\n",
              "      --bg-color: #3B4455;\n",
              "      --fill-color: #D2E3FC;\n",
              "      --hover-bg-color: #434B5C;\n",
              "      --hover-fill-color: #FFFFFF;\n",
              "      --disabled-bg-color: #3B4455;\n",
              "      --disabled-fill-color: #666;\n",
              "  }\n",
              "\n",
              "  .colab-df-quickchart {\n",
              "    background-color: var(--bg-color);\n",
              "    border: none;\n",
              "    border-radius: 50%;\n",
              "    cursor: pointer;\n",
              "    display: none;\n",
              "    fill: var(--fill-color);\n",
              "    height: 32px;\n",
              "    padding: 0;\n",
              "    width: 32px;\n",
              "  }\n",
              "\n",
              "  .colab-df-quickchart:hover {\n",
              "    background-color: var(--hover-bg-color);\n",
              "    box-shadow: 0 1px 2px rgba(60, 64, 67, 0.3), 0 1px 3px 1px rgba(60, 64, 67, 0.15);\n",
              "    fill: var(--button-hover-fill-color);\n",
              "  }\n",
              "\n",
              "  .colab-df-quickchart-complete:disabled,\n",
              "  .colab-df-quickchart-complete:disabled:hover {\n",
              "    background-color: var(--disabled-bg-color);\n",
              "    fill: var(--disabled-fill-color);\n",
              "    box-shadow: none;\n",
              "  }\n",
              "\n",
              "  .colab-df-spinner {\n",
              "    border: 2px solid var(--fill-color);\n",
              "    border-color: transparent;\n",
              "    border-bottom-color: var(--fill-color);\n",
              "    animation:\n",
              "      spin 1s steps(1) infinite;\n",
              "  }\n",
              "\n",
              "  @keyframes spin {\n",
              "    0% {\n",
              "      border-color: transparent;\n",
              "      border-bottom-color: var(--fill-color);\n",
              "      border-left-color: var(--fill-color);\n",
              "    }\n",
              "    20% {\n",
              "      border-color: transparent;\n",
              "      border-left-color: var(--fill-color);\n",
              "      border-top-color: var(--fill-color);\n",
              "    }\n",
              "    30% {\n",
              "      border-color: transparent;\n",
              "      border-left-color: var(--fill-color);\n",
              "      border-top-color: var(--fill-color);\n",
              "      border-right-color: var(--fill-color);\n",
              "    }\n",
              "    40% {\n",
              "      border-color: transparent;\n",
              "      border-right-color: var(--fill-color);\n",
              "      border-top-color: var(--fill-color);\n",
              "    }\n",
              "    60% {\n",
              "      border-color: transparent;\n",
              "      border-right-color: var(--fill-color);\n",
              "    }\n",
              "    80% {\n",
              "      border-color: transparent;\n",
              "      border-right-color: var(--fill-color);\n",
              "      border-bottom-color: var(--fill-color);\n",
              "    }\n",
              "    90% {\n",
              "      border-color: transparent;\n",
              "      border-bottom-color: var(--fill-color);\n",
              "    }\n",
              "  }\n",
              "</style>\n",
              "\n",
              "  <script>\n",
              "    async function quickchart(key) {\n",
              "      const quickchartButtonEl =\n",
              "        document.querySelector('#' + key + ' button');\n",
              "      quickchartButtonEl.disabled = true;  // To prevent multiple clicks.\n",
              "      quickchartButtonEl.classList.add('colab-df-spinner');\n",
              "      try {\n",
              "        const charts = await google.colab.kernel.invokeFunction(\n",
              "            'suggestCharts', [key], {});\n",
              "      } catch (error) {\n",
              "        console.error('Error during call to suggestCharts:', error);\n",
              "      }\n",
              "      quickchartButtonEl.classList.remove('colab-df-spinner');\n",
              "      quickchartButtonEl.classList.add('colab-df-quickchart-complete');\n",
              "    }\n",
              "    (() => {\n",
              "      let quickchartButtonEl =\n",
              "        document.querySelector('#df-8c598e39-c414-49ed-b28f-c042a93c5c5c button');\n",
              "      quickchartButtonEl.style.display =\n",
              "        google.colab.kernel.accessAllowed ? 'block' : 'none';\n",
              "    })();\n",
              "  </script>\n",
              "</div>\n",
              "    </div>\n",
              "  </div>\n"
            ],
            "application/vnd.google.colaboratory.intrinsic+json": {
              "type": "dataframe",
              "variable_name": "df_config",
              "summary": "{\n  \"name\": \"df_config\",\n  \"rows\": 320,\n  \"fields\": [\n    {\n      \"column\": \"uuid\",\n      \"properties\": {\n        \"dtype\": \"string\",\n        \"num_unique_values\": 320,\n        \"samples\": [\n          \"ea35f08c-e204-4135-9aae-b4bbaf18dfd5\",\n          \"d5e7815e-5edb-4ec4-8f4f-cadc6c187e26\",\n          \"9bf78e90-575f-4230-baad-15e89204690b\"\n        ],\n        \"semantic_type\": \"\",\n        \"description\": \"\"\n      }\n    },\n    {\n      \"column\": \"label\",\n      \"properties\": {\n        \"dtype\": \"string\",\n        \"num_unique_values\": 320,\n        \"samples\": [\n          \"DB____126.SP_INT\",\n          \"REGLER_DB_HZRG_I.STATUS_D\",\n          \"SOLLDRUCK 2_SOLL\"\n        ],\n        \"semantic_type\": \"\",\n        \"description\": \"\"\n      }\n    },\n    {\n      \"column\": \"config\",\n      \"properties\": {\n        \"dtype\": \"object\",\n        \"semantic_type\": \"\",\n        \"description\": \"\"\n      }\n    }\n  ]\n}"
            }
          },
          "metadata": {},
          "execution_count": 7
        }
      ]
    },
    {
      "cell_type": "markdown",
      "source": [
        "\n",
        "According the config File:\n",
        "\n",
        "89. TEMPERATUR INNEN_IST    \n",
        "    UUID: 5cde150d-c044-4e55-8c48-73321e0c0f27     \n",
        "    Data type: INT16\n",
        "\n",
        "90. DRUCK INNEN_IST      \n",
        "    UUID: 67da707a-735b-497d-9870-40349919814c     \n",
        "    Data type: INT16\n",
        "\n",
        "---"
      ],
      "metadata": {
        "id": "O_cdoz5m47QU"
      }
    },
    {
      "cell_type": "markdown",
      "source": [
        "####Get the temperature dataframe:"
      ],
      "metadata": {
        "id": "HcARSmiK7ESW"
      }
    },
    {
      "cell_type": "code",
      "source": [
        "# Function to search for parquet files with a certain file name (UUID) in a directory and its subdirectories,\n",
        "# then create a dataframe with all the found parquet files\n",
        "\n",
        "def get_data(file_name, root_dir):\n",
        "    parquet_files = []\n",
        "    for root, dirs, files in os.walk(root_dir):\n",
        "        for file in files:\n",
        "            if file.endswith('.parquet') and file_name in file:\n",
        "                parquet_files.append(os.path.join(root, file))\n",
        "\n",
        "    # Create an empty DataFrame to store the combined data from all Parquet files\n",
        "    df = pd.DataFrame()\n",
        "\n",
        "    # Read each Parquet file and extract its content into the combined DataFrame\n",
        "    for file_path in parquet_files:\n",
        "        parquet_files = pq.read_table(file_path).to_pandas()\n",
        "        df = pd.concat([df, parquet_files], ignore_index=True)\n",
        "\n",
        "    return df"
      ],
      "metadata": {
        "id": "L4DSvRYJXgmw"
      },
      "execution_count": 8,
      "outputs": []
    },
    {
      "cell_type": "code",
      "source": [
        "# Get the temperature data:\n",
        "uuid_temp = \"5cde150d-c044-4e55-8c48-73321e0c0f27\"\n",
        "root_dir = \"/content/drive/My Drive/continental_challenge/ct-oesl-hiring-challenge-main/data/machine_data/\"\n",
        "\n",
        "df_temp = get_data(uuid_temp, root_dir)\n",
        "df_temp.info()"
      ],
      "metadata": {
        "colab": {
          "base_uri": "https://localhost:8080/"
        },
        "id": "HlKs7G4HYeI2",
        "outputId": "7819be6e-40dc-4df4-b90f-fd7dd39c91bf"
      },
      "execution_count": 204,
      "outputs": [
        {
          "output_type": "stream",
          "name": "stdout",
          "text": [
            "<class 'pandas.core.frame.DataFrame'>\n",
            "RangeIndex: 412769 entries, 0 to 412768\n",
            "Data columns (total 10 columns):\n",
            " #   Column           Non-Null Count   Dtype  \n",
            "---  ------           --------------   -----  \n",
            " 0   uuid             412769 non-null  object \n",
            " 1   sequence_number  412769 non-null  int32  \n",
            " 2   systime          412769 non-null  int64  \n",
            " 3   plctime          412769 non-null  int64  \n",
            " 4   is_delta         412769 non-null  bool   \n",
            " 5   value_integer    412769 non-null  int64  \n",
            " 6   value_string     0 non-null       object \n",
            " 7   value_double     0 non-null       float64\n",
            " 8   value_bool       0 non-null       object \n",
            " 9   value_bytes      0 non-null       object \n",
            "dtypes: bool(1), float64(1), int32(1), int64(3), object(4)\n",
            "memory usage: 27.2+ MB\n"
          ]
        }
      ]
    },
    {
      "cell_type": "markdown",
      "source": [
        "Neither NaNs nor nulls nor mixed data types in labels: \"systime\" and \"value_integer\""
      ],
      "metadata": {
        "id": "iRqGsyc_94Ue"
      }
    },
    {
      "cell_type": "code",
      "source": [
        "#Function to transform the systime column to date time format,\n",
        "#then filter the data of the desired range:\n",
        "\n",
        "def transform_filter(df, start_date, end_date):\n",
        "    #Convert the timestamp \"systime\" to datetime format in a new column:\n",
        "    df[\"system_time\"] = df['systime'].apply(lambda x: x / 1e9)\n",
        "    df[\"system_time\"] = pd.to_datetime(df['system_time'], unit='s')\n",
        "\n",
        "    #add ingestion_date\n",
        "    df[\"ingestion_date\"] = datetime.now()\n",
        "\n",
        "    # Define start and end dates:\n",
        "    start = pd.to_datetime(start_date)   #YY-MM-DD HH:MM:SS\n",
        "    end = pd.to_datetime(end_date)       #YY-MM-DD HH:MM:SS\n",
        "\n",
        "    # Filter rows where 'date' is within the range (inclusive)\n",
        "    df_filtered = df[(df['system_time'] >= start) & (df['system_time'] <= end)]\n",
        "\n",
        "    return df_filtered"
      ],
      "metadata": {
        "id": "kdBUFfQHCufj"
      },
      "execution_count": 221,
      "outputs": []
    },
    {
      "cell_type": "code",
      "source": [
        "df_temp = transform_filter(df_temp, '2024-04-08 00:00:00','2024-04-10 23:59:59')\n",
        "df_temp.info()"
      ],
      "metadata": {
        "colab": {
          "base_uri": "https://localhost:8080/"
        },
        "id": "ricyckDlEEk4",
        "outputId": "eeb0d920-665a-4adf-9a23-456562e1a5e1"
      },
      "execution_count": 223,
      "outputs": [
        {
          "output_type": "stream",
          "name": "stdout",
          "text": [
            "<class 'pandas.core.frame.DataFrame'>\n",
            "RangeIndex: 412769 entries, 0 to 412768\n",
            "Data columns (total 12 columns):\n",
            " #   Column           Non-Null Count   Dtype         \n",
            "---  ------           --------------   -----         \n",
            " 0   uuid             412769 non-null  object        \n",
            " 1   sequence_number  412769 non-null  int32         \n",
            " 2   systime          412769 non-null  int64         \n",
            " 3   plctime          412769 non-null  int64         \n",
            " 4   is_delta         412769 non-null  bool          \n",
            " 5   value_integer    412769 non-null  int64         \n",
            " 6   value_string     0 non-null       object        \n",
            " 7   value_double     0 non-null       float64       \n",
            " 8   value_bool       0 non-null       object        \n",
            " 9   value_bytes      0 non-null       object        \n",
            " 10  system_time      412769 non-null  datetime64[ns]\n",
            " 11  ingestion_date   412769 non-null  datetime64[ns]\n",
            "dtypes: bool(1), datetime64[ns](2), float64(1), int32(1), int64(3), object(4)\n",
            "memory usage: 33.5+ MB\n"
          ]
        }
      ]
    },
    {
      "cell_type": "code",
      "source": [
        "#Select only the required columns\n",
        "\n",
        "df_temperature = df_temperature_filtered[[\"uuid\",\n",
        "                                           \"sequence_number\",\n",
        "                                           \"systime\",\n",
        "                                           \"plctime\",\n",
        "                                           \"is_delta\",\n",
        "                                           \"value_integer\",\n",
        "                                           \"system_time\",\n",
        "                                           \"ingestion_date\"\n",
        "                                           ]]"
      ],
      "metadata": {
        "id": "rFt5PeiBIqjr"
      },
      "execution_count": 224,
      "outputs": []
    },
    {
      "cell_type": "code",
      "source": [
        "df_temperature.head(3)"
      ],
      "metadata": {
        "colab": {
          "base_uri": "https://localhost:8080/",
          "height": 143
        },
        "id": "kXdHDtEHBWJW",
        "outputId": "3db87c18-ba87-42f1-f1c5-fe9a7f345a7d"
      },
      "execution_count": 225,
      "outputs": [
        {
          "output_type": "execute_result",
          "data": {
            "text/plain": [
              "                                        uuid  sequence_number  \\\n",
              "150400  5cde150d-c044-4e55-8c48-73321e0c0f27                0   \n",
              "150401  5cde150d-c044-4e55-8c48-73321e0c0f27                0   \n",
              "150402  5cde150d-c044-4e55-8c48-73321e0c0f27                0   \n",
              "\n",
              "                    systime              plctime  is_delta  value_integer  \\\n",
              "150400  1712570400659743489  1712577600156000000     False            145   \n",
              "150401  1712570401209725631  1712577600707000000      True            144   \n",
              "150402  1712570401805705553  1712577601301000000      True            145   \n",
              "\n",
              "                         system_time             ingestion_date  \n",
              "150400 2024-04-08 10:00:00.659743488 2024-04-24 21:48:45.298261  \n",
              "150401 2024-04-08 10:00:01.209725696 2024-04-24 21:48:45.298261  \n",
              "150402 2024-04-08 10:00:01.805705472 2024-04-24 21:48:45.298261  "
            ],
            "text/html": [
              "\n",
              "  <div id=\"df-6ba6ae66-287b-4536-a696-5efb5c0244b7\" class=\"colab-df-container\">\n",
              "    <div>\n",
              "<style scoped>\n",
              "    .dataframe tbody tr th:only-of-type {\n",
              "        vertical-align: middle;\n",
              "    }\n",
              "\n",
              "    .dataframe tbody tr th {\n",
              "        vertical-align: top;\n",
              "    }\n",
              "\n",
              "    .dataframe thead th {\n",
              "        text-align: right;\n",
              "    }\n",
              "</style>\n",
              "<table border=\"1\" class=\"dataframe\">\n",
              "  <thead>\n",
              "    <tr style=\"text-align: right;\">\n",
              "      <th></th>\n",
              "      <th>uuid</th>\n",
              "      <th>sequence_number</th>\n",
              "      <th>systime</th>\n",
              "      <th>plctime</th>\n",
              "      <th>is_delta</th>\n",
              "      <th>value_integer</th>\n",
              "      <th>system_time</th>\n",
              "      <th>ingestion_date</th>\n",
              "    </tr>\n",
              "  </thead>\n",
              "  <tbody>\n",
              "    <tr>\n",
              "      <th>150400</th>\n",
              "      <td>5cde150d-c044-4e55-8c48-73321e0c0f27</td>\n",
              "      <td>0</td>\n",
              "      <td>1712570400659743489</td>\n",
              "      <td>1712577600156000000</td>\n",
              "      <td>False</td>\n",
              "      <td>145</td>\n",
              "      <td>2024-04-08 10:00:00.659743488</td>\n",
              "      <td>2024-04-24 21:48:45.298261</td>\n",
              "    </tr>\n",
              "    <tr>\n",
              "      <th>150401</th>\n",
              "      <td>5cde150d-c044-4e55-8c48-73321e0c0f27</td>\n",
              "      <td>0</td>\n",
              "      <td>1712570401209725631</td>\n",
              "      <td>1712577600707000000</td>\n",
              "      <td>True</td>\n",
              "      <td>144</td>\n",
              "      <td>2024-04-08 10:00:01.209725696</td>\n",
              "      <td>2024-04-24 21:48:45.298261</td>\n",
              "    </tr>\n",
              "    <tr>\n",
              "      <th>150402</th>\n",
              "      <td>5cde150d-c044-4e55-8c48-73321e0c0f27</td>\n",
              "      <td>0</td>\n",
              "      <td>1712570401805705553</td>\n",
              "      <td>1712577601301000000</td>\n",
              "      <td>True</td>\n",
              "      <td>145</td>\n",
              "      <td>2024-04-08 10:00:01.805705472</td>\n",
              "      <td>2024-04-24 21:48:45.298261</td>\n",
              "    </tr>\n",
              "  </tbody>\n",
              "</table>\n",
              "</div>\n",
              "    <div class=\"colab-df-buttons\">\n",
              "\n",
              "  <div class=\"colab-df-container\">\n",
              "    <button class=\"colab-df-convert\" onclick=\"convertToInteractive('df-6ba6ae66-287b-4536-a696-5efb5c0244b7')\"\n",
              "            title=\"Convert this dataframe to an interactive table.\"\n",
              "            style=\"display:none;\">\n",
              "\n",
              "  <svg xmlns=\"http://www.w3.org/2000/svg\" height=\"24px\" viewBox=\"0 -960 960 960\">\n",
              "    <path d=\"M120-120v-720h720v720H120Zm60-500h600v-160H180v160Zm220 220h160v-160H400v160Zm0 220h160v-160H400v160ZM180-400h160v-160H180v160Zm440 0h160v-160H620v160ZM180-180h160v-160H180v160Zm440 0h160v-160H620v160Z\"/>\n",
              "  </svg>\n",
              "    </button>\n",
              "\n",
              "  <style>\n",
              "    .colab-df-container {\n",
              "      display:flex;\n",
              "      gap: 12px;\n",
              "    }\n",
              "\n",
              "    .colab-df-convert {\n",
              "      background-color: #E8F0FE;\n",
              "      border: none;\n",
              "      border-radius: 50%;\n",
              "      cursor: pointer;\n",
              "      display: none;\n",
              "      fill: #1967D2;\n",
              "      height: 32px;\n",
              "      padding: 0 0 0 0;\n",
              "      width: 32px;\n",
              "    }\n",
              "\n",
              "    .colab-df-convert:hover {\n",
              "      background-color: #E2EBFA;\n",
              "      box-shadow: 0px 1px 2px rgba(60, 64, 67, 0.3), 0px 1px 3px 1px rgba(60, 64, 67, 0.15);\n",
              "      fill: #174EA6;\n",
              "    }\n",
              "\n",
              "    .colab-df-buttons div {\n",
              "      margin-bottom: 4px;\n",
              "    }\n",
              "\n",
              "    [theme=dark] .colab-df-convert {\n",
              "      background-color: #3B4455;\n",
              "      fill: #D2E3FC;\n",
              "    }\n",
              "\n",
              "    [theme=dark] .colab-df-convert:hover {\n",
              "      background-color: #434B5C;\n",
              "      box-shadow: 0px 1px 3px 1px rgba(0, 0, 0, 0.15);\n",
              "      filter: drop-shadow(0px 1px 2px rgba(0, 0, 0, 0.3));\n",
              "      fill: #FFFFFF;\n",
              "    }\n",
              "  </style>\n",
              "\n",
              "    <script>\n",
              "      const buttonEl =\n",
              "        document.querySelector('#df-6ba6ae66-287b-4536-a696-5efb5c0244b7 button.colab-df-convert');\n",
              "      buttonEl.style.display =\n",
              "        google.colab.kernel.accessAllowed ? 'block' : 'none';\n",
              "\n",
              "      async function convertToInteractive(key) {\n",
              "        const element = document.querySelector('#df-6ba6ae66-287b-4536-a696-5efb5c0244b7');\n",
              "        const dataTable =\n",
              "          await google.colab.kernel.invokeFunction('convertToInteractive',\n",
              "                                                    [key], {});\n",
              "        if (!dataTable) return;\n",
              "\n",
              "        const docLinkHtml = 'Like what you see? Visit the ' +\n",
              "          '<a target=\"_blank\" href=https://colab.research.google.com/notebooks/data_table.ipynb>data table notebook</a>'\n",
              "          + ' to learn more about interactive tables.';\n",
              "        element.innerHTML = '';\n",
              "        dataTable['output_type'] = 'display_data';\n",
              "        await google.colab.output.renderOutput(dataTable, element);\n",
              "        const docLink = document.createElement('div');\n",
              "        docLink.innerHTML = docLinkHtml;\n",
              "        element.appendChild(docLink);\n",
              "      }\n",
              "    </script>\n",
              "  </div>\n",
              "\n",
              "\n",
              "<div id=\"df-423edbc1-0518-4ef3-a8c1-39f3bd3e3a8d\">\n",
              "  <button class=\"colab-df-quickchart\" onclick=\"quickchart('df-423edbc1-0518-4ef3-a8c1-39f3bd3e3a8d')\"\n",
              "            title=\"Suggest charts\"\n",
              "            style=\"display:none;\">\n",
              "\n",
              "<svg xmlns=\"http://www.w3.org/2000/svg\" height=\"24px\"viewBox=\"0 0 24 24\"\n",
              "     width=\"24px\">\n",
              "    <g>\n",
              "        <path d=\"M19 3H5c-1.1 0-2 .9-2 2v14c0 1.1.9 2 2 2h14c1.1 0 2-.9 2-2V5c0-1.1-.9-2-2-2zM9 17H7v-7h2v7zm4 0h-2V7h2v10zm4 0h-2v-4h2v4z\"/>\n",
              "    </g>\n",
              "</svg>\n",
              "  </button>\n",
              "\n",
              "<style>\n",
              "  .colab-df-quickchart {\n",
              "      --bg-color: #E8F0FE;\n",
              "      --fill-color: #1967D2;\n",
              "      --hover-bg-color: #E2EBFA;\n",
              "      --hover-fill-color: #174EA6;\n",
              "      --disabled-fill-color: #AAA;\n",
              "      --disabled-bg-color: #DDD;\n",
              "  }\n",
              "\n",
              "  [theme=dark] .colab-df-quickchart {\n",
              "      --bg-color: #3B4455;\n",
              "      --fill-color: #D2E3FC;\n",
              "      --hover-bg-color: #434B5C;\n",
              "      --hover-fill-color: #FFFFFF;\n",
              "      --disabled-bg-color: #3B4455;\n",
              "      --disabled-fill-color: #666;\n",
              "  }\n",
              "\n",
              "  .colab-df-quickchart {\n",
              "    background-color: var(--bg-color);\n",
              "    border: none;\n",
              "    border-radius: 50%;\n",
              "    cursor: pointer;\n",
              "    display: none;\n",
              "    fill: var(--fill-color);\n",
              "    height: 32px;\n",
              "    padding: 0;\n",
              "    width: 32px;\n",
              "  }\n",
              "\n",
              "  .colab-df-quickchart:hover {\n",
              "    background-color: var(--hover-bg-color);\n",
              "    box-shadow: 0 1px 2px rgba(60, 64, 67, 0.3), 0 1px 3px 1px rgba(60, 64, 67, 0.15);\n",
              "    fill: var(--button-hover-fill-color);\n",
              "  }\n",
              "\n",
              "  .colab-df-quickchart-complete:disabled,\n",
              "  .colab-df-quickchart-complete:disabled:hover {\n",
              "    background-color: var(--disabled-bg-color);\n",
              "    fill: var(--disabled-fill-color);\n",
              "    box-shadow: none;\n",
              "  }\n",
              "\n",
              "  .colab-df-spinner {\n",
              "    border: 2px solid var(--fill-color);\n",
              "    border-color: transparent;\n",
              "    border-bottom-color: var(--fill-color);\n",
              "    animation:\n",
              "      spin 1s steps(1) infinite;\n",
              "  }\n",
              "\n",
              "  @keyframes spin {\n",
              "    0% {\n",
              "      border-color: transparent;\n",
              "      border-bottom-color: var(--fill-color);\n",
              "      border-left-color: var(--fill-color);\n",
              "    }\n",
              "    20% {\n",
              "      border-color: transparent;\n",
              "      border-left-color: var(--fill-color);\n",
              "      border-top-color: var(--fill-color);\n",
              "    }\n",
              "    30% {\n",
              "      border-color: transparent;\n",
              "      border-left-color: var(--fill-color);\n",
              "      border-top-color: var(--fill-color);\n",
              "      border-right-color: var(--fill-color);\n",
              "    }\n",
              "    40% {\n",
              "      border-color: transparent;\n",
              "      border-right-color: var(--fill-color);\n",
              "      border-top-color: var(--fill-color);\n",
              "    }\n",
              "    60% {\n",
              "      border-color: transparent;\n",
              "      border-right-color: var(--fill-color);\n",
              "    }\n",
              "    80% {\n",
              "      border-color: transparent;\n",
              "      border-right-color: var(--fill-color);\n",
              "      border-bottom-color: var(--fill-color);\n",
              "    }\n",
              "    90% {\n",
              "      border-color: transparent;\n",
              "      border-bottom-color: var(--fill-color);\n",
              "    }\n",
              "  }\n",
              "</style>\n",
              "\n",
              "  <script>\n",
              "    async function quickchart(key) {\n",
              "      const quickchartButtonEl =\n",
              "        document.querySelector('#' + key + ' button');\n",
              "      quickchartButtonEl.disabled = true;  // To prevent multiple clicks.\n",
              "      quickchartButtonEl.classList.add('colab-df-spinner');\n",
              "      try {\n",
              "        const charts = await google.colab.kernel.invokeFunction(\n",
              "            'suggestCharts', [key], {});\n",
              "      } catch (error) {\n",
              "        console.error('Error during call to suggestCharts:', error);\n",
              "      }\n",
              "      quickchartButtonEl.classList.remove('colab-df-spinner');\n",
              "      quickchartButtonEl.classList.add('colab-df-quickchart-complete');\n",
              "    }\n",
              "    (() => {\n",
              "      let quickchartButtonEl =\n",
              "        document.querySelector('#df-423edbc1-0518-4ef3-a8c1-39f3bd3e3a8d button');\n",
              "      quickchartButtonEl.style.display =\n",
              "        google.colab.kernel.accessAllowed ? 'block' : 'none';\n",
              "    })();\n",
              "  </script>\n",
              "</div>\n",
              "    </div>\n",
              "  </div>\n"
            ],
            "application/vnd.google.colaboratory.intrinsic+json": {
              "type": "dataframe",
              "variable_name": "df_temperature"
            }
          },
          "metadata": {},
          "execution_count": 225
        }
      ]
    },
    {
      "cell_type": "code",
      "source": [
        "df_temperature.info()"
      ],
      "metadata": {
        "colab": {
          "base_uri": "https://localhost:8080/"
        },
        "id": "5eo3j5l1mq0t",
        "outputId": "3d6ff283-30fb-4889-8f0c-701254470525"
      },
      "execution_count": 226,
      "outputs": [
        {
          "output_type": "stream",
          "name": "stdout",
          "text": [
            "<class 'pandas.core.frame.DataFrame'>\n",
            "Index: 145001 entries, 150400 to 295400\n",
            "Data columns (total 8 columns):\n",
            " #   Column           Non-Null Count   Dtype         \n",
            "---  ------           --------------   -----         \n",
            " 0   uuid             145001 non-null  object        \n",
            " 1   sequence_number  145001 non-null  int32         \n",
            " 2   systime          145001 non-null  int64         \n",
            " 3   plctime          145001 non-null  int64         \n",
            " 4   is_delta         145001 non-null  bool          \n",
            " 5   value_integer    145001 non-null  int64         \n",
            " 6   system_time      145001 non-null  datetime64[ns]\n",
            " 7   ingestion_date   145001 non-null  datetime64[ns]\n",
            "dtypes: bool(1), datetime64[ns](2), int32(1), int64(3), object(1)\n",
            "memory usage: 8.4+ MB\n"
          ]
        }
      ]
    },
    {
      "cell_type": "code",
      "source": [
        "df_temperature[\"value_integer\"].describe()"
      ],
      "metadata": {
        "colab": {
          "base_uri": "https://localhost:8080/"
        },
        "id": "8ShUwHJVBemW",
        "outputId": "64177d56-d201-4fd0-debe-2a582aafce54"
      },
      "execution_count": 227,
      "outputs": [
        {
          "output_type": "execute_result",
          "data": {
            "text/plain": [
              "count    145001.000000\n",
              "mean        143.921525\n",
              "std          10.151758\n",
              "min         103.000000\n",
              "25%         144.000000\n",
              "50%         145.000000\n",
              "75%         152.000000\n",
              "max         154.000000\n",
              "Name: value_integer, dtype: float64"
            ]
          },
          "metadata": {},
          "execution_count": 227
        }
      ]
    },
    {
      "cell_type": "markdown",
      "source": [
        "####Get the pressure (drück) dataframe:"
      ],
      "metadata": {
        "id": "XrysgrGCCKd_"
      }
    },
    {
      "cell_type": "code",
      "source": [
        "# Get the pressure data:\n",
        "uuid_druck = \"67da707a-735b-497d-9870-40349919814c\"\n",
        "root_dir = \"/content/drive/My Drive/continental_challenge/ct-oesl-hiring-challenge-main/data/machine_data/\"\n",
        "\n",
        "df_druck = get_data(uuid_druck, root_dir)\n",
        "df_druck.info()"
      ],
      "metadata": {
        "colab": {
          "base_uri": "https://localhost:8080/"
        },
        "id": "l8RvGWlFCCke",
        "outputId": "2e179a95-559e-495b-eaa5-3becd4c1b1a5"
      },
      "execution_count": 228,
      "outputs": [
        {
          "output_type": "stream",
          "name": "stdout",
          "text": [
            "<class 'pandas.core.frame.DataFrame'>\n",
            "RangeIndex: 206356 entries, 0 to 206355\n",
            "Data columns (total 10 columns):\n",
            " #   Column           Non-Null Count   Dtype  \n",
            "---  ------           --------------   -----  \n",
            " 0   uuid             206356 non-null  object \n",
            " 1   sequence_number  206356 non-null  int32  \n",
            " 2   systime          206356 non-null  int64  \n",
            " 3   plctime          206356 non-null  int64  \n",
            " 4   is_delta         206356 non-null  bool   \n",
            " 5   value_integer    206356 non-null  int64  \n",
            " 6   value_string     0 non-null       object \n",
            " 7   value_double     0 non-null       float64\n",
            " 8   value_bool       0 non-null       object \n",
            " 9   value_bytes      0 non-null       object \n",
            "dtypes: bool(1), float64(1), int32(1), int64(3), object(4)\n",
            "memory usage: 13.6+ MB\n"
          ]
        }
      ]
    },
    {
      "cell_type": "markdown",
      "source": [
        "Neither NaNs nor nulls nor mixed data types in labels: \"systime\" and \"value_integer\""
      ],
      "metadata": {
        "id": "n3HxVT3GCjZS"
      }
    },
    {
      "cell_type": "code",
      "source": [],
      "metadata": {
        "id": "RzzD8Q-ICI0B"
      },
      "execution_count": null,
      "outputs": []
    },
    {
      "cell_type": "markdown",
      "source": [
        "## Plotting:"
      ],
      "metadata": {
        "id": "LnWub8j3ArnG"
      }
    },
    {
      "cell_type": "code",
      "source": [
        "def plot(df, y_column_name):\n",
        "    \"\"\"\n",
        "    Plots a specified column of the resampled DataFrame.\n",
        "\n",
        "    Parameters:\n",
        "        df_resampled (DataFrame): Resampled DataFrame containing datetime index.\n",
        "        column_name (str): Name of the column to plot.\n",
        "\n",
        "    Returns:\n",
        "        None\n",
        "    \"\"\"\n",
        "    #Isolate numerical data\n",
        "    df_plot = df[[\"value_integer\", \"system_time\", \"ingestion_date\"]]\n",
        "    df_plot.set_index('system_time', inplace=True)\n",
        "\n",
        "    #Resample each second to plot propperly\n",
        "    df_resampled = df_plot.resample('S').mean()\n",
        "\n",
        "    plt.figure(figsize=(22, 6))  # Adjust figure size as needed\n",
        "    plt.plot(df_resampled[y_column_name])\n",
        "    plt.xlabel('Date')    # Add label for x-axis\n",
        "    plt.ylabel('Temperature units')    # Add label for y-axis\n",
        "    plt.title('Temperature data')  # Add title to the plot\n",
        "    plt.grid(True)                # Add gridlines\n",
        "    plt.show()"
      ],
      "metadata": {
        "id": "AFBDsXQQ7ah5"
      },
      "execution_count": 185,
      "outputs": []
    },
    {
      "cell_type": "code",
      "source": [
        "plot(df_temperature, \"value_integer\")"
      ],
      "metadata": {
        "colab": {
          "base_uri": "https://localhost:8080/",
          "height": 564
        },
        "id": "a5InzA389JmA",
        "outputId": "3d7ca773-eb10-44a4-c9bd-dbe9069574f6"
      },
      "execution_count": 186,
      "outputs": [
        {
          "output_type": "display_data",
          "data": {
            "text/plain": [
              "<Figure size 2200x600 with 1 Axes>"
            ],
            "image/png": "[encoded data removed]"
          },
          "metadata": {}
        }
      ]
    }
  ],
  "metadata": {
    "kernelspec": {
      "display_name": "Python 3",
      "language": "python",
      "name": "python3"
    },
    "language_info": {
      "codemirror_mode": {
        "name": "ipython",
        "version": 3
      },
      "file_extension": ".py",
      "mimetype": "text/x-python",
      "name": "python",
      "nbconvert_exporter": "python",
      "pygments_lexer": "ipython3",
      "version": "3.11.3"
    },
    "colab": {
      "provenance": [],
      "include_colab_link": true
    }
  },
  "nbformat": 4,
  "nbformat_minor": 0
}