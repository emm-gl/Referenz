{
  "nbformat": 4,
  "nbformat_minor": 0,
  "metadata": {
    "colab": {
      "provenance": [],
      "toc_visible": true
    },
    "kernelspec": {
      "name": "python3",
      "display_name": "Python 3"
    },
    "language_info": {
      "name": "python"
    }
  },
  "cells": [
    {
      "cell_type": "markdown",
      "source": [
        "17.09.22\n",
        "\n",
        "-------------------------------------------------Module 1 Python Basics:"
      ],
      "metadata": {
        "id": "RxbeK6lQMu-3"
      }
    },
    {
      "cell_type": "markdown",
      "source": [
        "# Modul 1 Python Basics:"
      ],
      "metadata": {
        "id": "Zv89NkY57HVv"
      }
    },
    {
      "cell_type": "code",
      "source": [
        "print(\"Hello World\")"
      ],
      "metadata": {
        "colab": {
          "base_uri": "https://localhost:8080/"
        },
        "id": "D4BujkufM9AL",
        "outputId": "1eeaff5c-f680-4ecb-de1d-ca280ca6026f"
      },
      "execution_count": null,
      "outputs": [
        {
          "output_type": "stream",
          "name": "stdout",
          "text": [
            "Hello World\n"
          ]
        }
      ]
    },
    {
      "cell_type": "code",
      "source": [],
      "metadata": {
        "id": "f-XXw7RdYrXx"
      },
      "execution_count": null,
      "outputs": []
    },
    {
      "cell_type": "markdown",
      "source": [
        "Types:\n",
        "INT, Real (floats) Numbers with decimal point, Strings\n",
        "\n",
        "Casting:\n",
        "You can casting each number with the next methods: int(), float(), str(), bool()"
      ],
      "metadata": {
        "id": "OcqMMperNF4k"
      }
    },
    {
      "cell_type": "code",
      "source": [
        "float(2)\n",
        "int(3.14159)\n",
        "str(3.14159)\n",
        "bool (126734872)\n",
        "bool (0)"
      ],
      "metadata": {
        "colab": {
          "base_uri": "https://localhost:8080/"
        },
        "id": "MdioykL9Nhe4",
        "outputId": "9e07ec2f-8f60-41d7-db97-16b6ce98cf82"
      },
      "execution_count": null,
      "outputs": [
        {
          "output_type": "execute_result",
          "data": {
            "text/plain": [
              "False"
            ]
          },
          "metadata": {},
          "execution_count": 52
        }
      ]
    },
    {
      "cell_type": "markdown",
      "source": [
        "Expressions and variables:\n",
        "\n",
        "10 + 234 - 124...\n",
        "\n",
        "Operands the numbers -> Operands\n",
        "Math symbols -> Operators\n",
        "\n",
        "We can use double slash for integer division, where the result is rounded. Be aware, in some cases, the results are not the same as regular division."
      ],
      "metadata": {
        "id": "vQIH9X4xOKSR"
      }
    },
    {
      "cell_type": "code",
      "source": [
        "25//6\n",
        "25/6"
      ],
      "metadata": {
        "colab": {
          "base_uri": "https://localhost:8080/"
        },
        "id": "j1YJv32sOvHm",
        "outputId": "9954f363-cc0e-492f-805d-9f3cf6a03259"
      },
      "execution_count": null,
      "outputs": [
        {
          "output_type": "execute_result",
          "data": {
            "text/plain": [
              "4.166666666666667"
            ]
          },
          "metadata": {},
          "execution_count": 53
        }
      ]
    },
    {
      "cell_type": "markdown",
      "source": [
        "Variables to store values:\n",
        "myVariable = 1\n",
        "\n",
        "*** Minium name of the values"
      ],
      "metadata": {
        "id": "gTuceCF3O6AU"
      }
    },
    {
      "cell_type": "markdown",
      "source": [
        "***** LAB *****\n"
      ],
      "metadata": {
        "id": "Y_Hz9V-1QIFw"
      }
    },
    {
      "cell_type": "code",
      "source": [
        "print (\"Hello Monterrey\")\n",
        "print (\"Hello\\nMexico \\\\ \")  #print the traditional hello something\n",
        "\n",
        "#Exercise Types:\n",
        "#Float\n",
        "6/2\n",
        "\n",
        "#Integer (Integer division)\n",
        "6//2\n",
        "\n",
        "#Exercise Expression:\n",
        "30 + 2 * 60\n",
        "\n",
        "(30+2) * 60\n",
        "\n",
        "x = 3 +2 *2\n",
        "y = (3+2) * 2\n",
        "z = x + y\n",
        "print(z)\n",
        "\n"
      ],
      "metadata": {
        "colab": {
          "base_uri": "https://localhost:8080/"
        },
        "id": "sSWFqe8qQ2m9",
        "outputId": "46063ff4-7727-47e4-b5f9-92d40b0e6e24"
      },
      "execution_count": null,
      "outputs": [
        {
          "output_type": "stream",
          "name": "stdout",
          "text": [
            "Hello Monterrey\n",
            "Hello\n",
            "Mexico \\ \n",
            "17\n"
          ]
        }
      ]
    },
    {
      "cell_type": "markdown",
      "source": [],
      "metadata": {
        "id": "b31ooK2AS4Hm"
      }
    },
    {
      "cell_type": "markdown",
      "source": [
        "Strings:\n",
        "It's better to think that an String is the order of letters.\n",
        "\n",
        "Escape sequences are strings that are difficult to input \\n (new line), \\t (tAb)\n",
        "\n",
        "Strings methods:\n",
        "Strings are methods, remember it!!!\n"
      ],
      "metadata": {
        "id": "9qn5-GqLS4JP"
      }
    },
    {
      "cell_type": "markdown",
      "source": [
        "***** LAB STRINGS *****\n",
        "\n",
        "Stings are indexed, they are a sequence.\n",
        "Negative indexing are numerated from the last character to the first, i.e. inverse direction\n",
        "\n",
        "Concatenate\n",
        "Escape sequences\n",
        "Methods: upper, replace, find"
      ],
      "metadata": {
        "id": "Fw8cemQGUWHe"
      }
    },
    {
      "cell_type": "code",
      "source": [
        "a = '1'\n",
        "b = '2'\n",
        "c = a + b\n",
        "print(c)\n",
        "\n",
        "\n",
        "\n",
        "#Slice Method\n",
        "#The first number means the index (star at 0), and the second number means the lenght from index to the last element you want start at 1\n",
        "\n",
        "d = 'ABCDEFG'\n",
        "print(d[0:2]) \n",
        "\n",
        "#Stride\n",
        "e = 'clocrkr1e1c1t'\n",
        "e[::2]\n",
        "\n",
        "#Print out a backslash\n",
        "print('\\\\')\n",
        "\n",
        "#Convert the variable f to uppercase:\n",
        "f = \"u r wrong\"\n",
        "f.upper()\n",
        "\n",
        "\n",
        "#Consider the variable g, and find the first index of the sub-string snow:\n",
        "g = \"Mary had a little lamb Little lamb, little lamb Mary had a little lamb \\\n",
        "Its fleece was white as snow And everywhere that Mary went Mary went, Mary went \\\n",
        "Everywhere that Mary went The lamb was sure to go\"\n",
        "\n",
        "g.find('snow')\n",
        "g.replace(\"Mary\", \"Bob\")\n",
        "\n",
        "w = \"Lizzy\"\n",
        "w[0:2]\n"
      ],
      "metadata": {
        "colab": {
          "base_uri": "https://localhost:8080/",
          "height": 176
        },
        "id": "D0_otSBTVCgn",
        "outputId": "e1c2bca7-a6e5-4f5d-a5e6-2ecf39599302"
      },
      "execution_count": null,
      "outputs": [
        {
          "output_type": "stream",
          "name": "stdout",
          "text": [
            "12\n",
            "AB\n",
            "\\\n"
          ]
        },
        {
          "output_type": "execute_result",
          "data": {
            "text/plain": [
              "'Li'"
            ],
            "application/vnd.google.colaboratory.intrinsic+json": {
              "type": "string"
            }
          },
          "metadata": {},
          "execution_count": 55
        }
      ]
    },
    {
      "cell_type": "markdown",
      "source": [
        "--------------------------------------------- Module 2 Python data structures"
      ],
      "metadata": {
        "id": "h-nIRAk8crEE"
      }
    },
    {
      "cell_type": "markdown",
      "source": [
        "#Module 2 Python data structures"
      ],
      "metadata": {
        "id": "HbITdreo7Ta9"
      }
    },
    {
      "cell_type": "markdown",
      "source": [
        "Tuples.  Immut ables \n",
        "List  Mutuables\n",
        "    difference between append and extend\n",
        "\n",
        "clone"
      ],
      "metadata": {
        "id": "3pdG4BjWcsei"
      }
    },
    {
      "cell_type": "code",
      "source": [
        "#Tuple\n",
        "A = (0,1,2,3)\n",
        "\n",
        "#List\n",
        "B = [\"a\", \"b\", \"c\"]\n",
        "B[0] = \"A\"\n",
        "print(B)"
      ],
      "metadata": {
        "colab": {
          "base_uri": "https://localhost:8080/"
        },
        "id": "E-yq6gdhhj0B",
        "outputId": "68924c48-2985-4560-c509-6a0eb5e1ed0d"
      },
      "execution_count": null,
      "outputs": [
        {
          "output_type": "stream",
          "name": "stdout",
          "text": [
            "['A', 'b', 'b']\n"
          ]
        }
      ]
    },
    {
      "cell_type": "code",
      "source": [
        "#######################   LAB Tuples #############################\n",
        "tuple1 = ('Disco',10, 1.2)\n",
        "tuple1\n",
        "\n",
        "print(tuple1[0])\n",
        "print(tuple1[1])\n",
        "print(tuple1[2])\n",
        "\n",
        "#Type of each element of the tuple\n",
        "print(type(tuple1[0]))\n",
        "print(type(tuple1[1]))\n",
        "print(type(tuple1[2]))\n",
        "\n",
        "print(type(tuple1[-1]))\n",
        "print(type(tuple1[-2]))\n",
        "print(type(tuple1[-3]))\n",
        "\n",
        "#Concatenate tuples:\n",
        "tuple2 = tuple1 + (\"hard rock\", 10)\n",
        "tuple2\n",
        "\n",
        "#Slicing\n",
        "tuple2[0:3] #Slice from index 0 to index 2\n",
        "tuple2[3:5] #Slice from index 3 to index 4\n",
        "\n",
        "#length of the tuple:\n",
        "len(tuple2)\n",
        "\n",
        "#Sorting:\n",
        "Ratings = (0,9,6,5,10,8,9,6,2)\n",
        "RatingsSorted = sorted(Ratings)\n",
        "RatingsSorted\n",
        "\n",
        "#Nesting\n",
        "NestedT = (1, 2, (\"pop\",\"rock\"), (3,4),(\"disco\",(1,2)))\n",
        "print(\"Element 0 of tuple \", NestedT[0])\n",
        "print(\"Element 1 of tuple \", NestedT[1])\n",
        "print(\"Element 2 of tuple \", NestedT[2])\n",
        "print(\"Element 3 of tuple \", NestedT[3])\n",
        "print(\"Element 4 of tuple \", NestedT[4])\n",
        "\n",
        "#Print the first element in the second nested tuples:\n",
        "NestedT[2][0]\n",
        "\n",
        "#Quiz:\n",
        "genres_tuple = ('pop', 'rock', 'soul', 'hard rock', 'soft rock','R&B', 'Progressive rock', 'disco')\n",
        "len(genres_tuple)\n",
        "genres_tuple[3]\n",
        "genres_tuple[3:6]\n",
        "\n",
        "print(genres_tuple[0:2])\n",
        "genres_tuple.index('disco')\n",
        "\n",
        "C_tuple = (-5,1,-3)\n",
        "SortedC = sorted(C_tuple)\n",
        "SortedC"
      ],
      "metadata": {
        "colab": {
          "base_uri": "https://localhost:8080/"
        },
        "id": "igdBnHp7mv2S",
        "outputId": "9d98afeb-b62f-4c85-f98f-f661a416e70d"
      },
      "execution_count": null,
      "outputs": [
        {
          "output_type": "stream",
          "name": "stdout",
          "text": [
            "Disco\n",
            "10\n",
            "1.2\n",
            "<class 'str'>\n",
            "<class 'int'>\n",
            "<class 'float'>\n",
            "<class 'float'>\n",
            "<class 'int'>\n",
            "<class 'str'>\n",
            "Element 0 of tuple  1\n",
            "Element 1 of tuple  2\n",
            "Element 2 of tuple  ('pop', 'rock')\n",
            "Element 3 of tuple  (3, 4)\n",
            "Element 4 of tuple  ('disco', (1, 2))\n",
            "('pop', 'rock')\n"
          ]
        },
        {
          "output_type": "execute_result",
          "data": {
            "text/plain": [
              "[-5, -3, 1]"
            ]
          },
          "metadata": {},
          "execution_count": 21
        }
      ]
    },
    {
      "cell_type": "code",
      "source": [
        "######################### LAB Lists ##########################################\n",
        "\n",
        "L = [\"Michael Jackson\", 10.1, 1982]\n",
        "L\n",
        "\n",
        "#Extend:\n",
        "L.extend(['pop', 10])\n",
        "L\n",
        "\n",
        "#Append:\n",
        "L.append(['pop',10])\n",
        "L\n",
        "\n",
        "#Copy and clone:\n",
        "A = [\"Hard rock\", 10, 1.2]\n",
        "B = A\n",
        "print('A: ', A)\n",
        "print('B: ', B)\n",
        "\n",
        "print('B[0]: ', B[0])\n",
        "A[0] = \"Banana\"\n",
        "print('B[0]: ', B[0])    #Be aware of this change, B and A are referencing to the same list in the memory, if we can modify the lists, it should be cloned:\n",
        "\n",
        "#Cloning\n",
        "B = A[:]\n",
        "B\n",
        "\n",
        "#Quiz:\n",
        "a_list = [1, 'hello',[1,2,3], True]\n",
        "a_list[1]\n",
        "a_list[1:4]\n",
        "\n",
        "#Concatenate:\n",
        "qw = [1,'a']\n",
        "qa =[2,1,'d']\n",
        "\n",
        "qw + qa"
      ],
      "metadata": {
        "colab": {
          "base_uri": "https://localhost:8080/"
        },
        "id": "pmyMgL53sqLz",
        "outputId": "e46bcb95-6832-4513-f76f-7a0fb01af0ed"
      },
      "execution_count": null,
      "outputs": [
        {
          "output_type": "stream",
          "name": "stdout",
          "text": [
            "A:  ['Hard rock', 10, 1.2]\n",
            "B:  ['Hard rock', 10, 1.2]\n",
            "B[0]:  Hard rock\n",
            "B[0]:  Banana\n"
          ]
        },
        {
          "output_type": "execute_result",
          "data": {
            "text/plain": [
              "[1, 'a', 2, 1, 'd']"
            ]
          },
          "metadata": {},
          "execution_count": 33
        }
      ]
    },
    {
      "cell_type": "markdown",
      "source": [],
      "metadata": {
        "id": "IwjBFOlOsok0"
      }
    },
    {
      "cell_type": "code",
      "source": [
        "#Sets:\n",
        "\n",
        "A = ['A', 'B', 'C','A','A','B','C']\n",
        "x = set(A)\n",
        "x.add('D')\n",
        "print(x)\n",
        "\n",
        "#Intersection of sets:\n",
        "V = {1,2,3,4,5}\n",
        "B = {1,3,9,12}\n",
        "\n",
        "print(V & B)\n",
        "\n",
        "\n",
        "###################  LAB SETs ##########################\n",
        "\n",
        "# Verify if the element is in the set\n",
        "A = {\"Thriller\", \"Back in Black\", \"AC/DC\"}\n",
        "\"AC/DC\" in A\n",
        "\n",
        "album_set1 = set([\"Thriller\", 'AC/DC', 'Back in Black'])\n",
        "album_set2 = set([ \"AC/DC\", \"Back in Black\", \"The Dark Side of the Moon\"])\n",
        "\n",
        "IntersectionSet = album_set1 & album_set2\n",
        "IntersectionSet\n",
        "\n",
        "# Find the difference in set1 but not set2\n",
        "\n",
        "album_set1.difference(album_set2) \n",
        "\n",
        "# Find the union of two sets\n",
        "album_set1.union(album_set2)\n",
        "\n",
        "\n",
        "\n",
        "#Suppose that you have two sets: A and B. Set A is a superset of set B if all elements of set B are elements of set A.\n",
        "#If set A is a superset of set B, then set B is a subset of set A. To check if a set is a subset of another, you use the issubset() method.\n",
        "#If set A and set B are not equal, set A is a proper superset of set B.\n",
        "#Logically, a set is a superset of itsel\n",
        "\n",
        "# Check if superset\n",
        "set(album_set1).issuperset(album_set2)\n",
        "\n",
        "# Check if subset\n",
        "set(album_set2).issubset(album_set1)   \n",
        "\n",
        "\n",
        "\n",
        "A = [1, 2, 2, 1]  \n",
        "B = set([1, 2, 2, 1])\n",
        "print(\"the sum of A is:\", sum(A))\n",
        "print(\"the sum of B is:\", sum(B))   #Remember Python deletes the repeated elements in a set\n",
        "\n",
        "album_set3 = album_set1.union(album_set2)\n",
        "album_set3"
      ],
      "metadata": {
        "colab": {
          "base_uri": "https://localhost:8080/"
        },
        "id": "Hc1bDyGtk9_p",
        "outputId": "7b5beb20-8108-4a57-e938-aedbaf107197"
      },
      "execution_count": null,
      "outputs": [
        {
          "output_type": "stream",
          "name": "stdout",
          "text": [
            "{'A', 'D', 'B', 'C'}\n",
            "{1, 3}\n",
            "the sum of A is: 6\n",
            "the sum of B is: 3\n"
          ]
        },
        {
          "output_type": "execute_result",
          "data": {
            "text/plain": [
              "{'AC/DC', 'Back in Black', 'The Dark Side of the Moon', 'Thriller'}"
            ]
          },
          "metadata": {},
          "execution_count": 44
        }
      ]
    },
    {
      "cell_type": "markdown",
      "source": [
        "18.09.22\n",
        "\n",
        "Dictionaries:"
      ],
      "metadata": {
        "id": "mMYSC3oG0W-W"
      }
    },
    {
      "cell_type": "code",
      "source": [
        "Dict = {\"key1\": 1, \"key 2\": \"2\", \"key 3\": [3,3,3], \"key 4\": (4,4,4)}\n",
        "Dict[\"key 4\"]\n",
        "\n",
        "release_year_dict = {\"Thriller\": \"1982\", \"Back in Black\": \"1980\", \\\n",
        "                    \"The Dark Side of the Moon\": \"1973\", \"The Bodyguard\": \"1992\", \\\n",
        "                    \"Bat Out of Hell\": \"1977\", \"Their Greatest Hits (1971-1975)\": \"1976\", \\\n",
        "                    \"Saturday Night Fever\": \"1977\", \"Rumours\": \"1977\"}\n",
        "\n",
        "release_year_dict.keys()\n",
        "release_year_dict.values() \n",
        "\n",
        "\n",
        "### LAB Dictionaries ###\n",
        "album_sales_dict = {\"The Bodyguard\":50, \"Back in Black\":50, \"Thriller\":65}\n",
        "album_sales_dict[\"Thriller\"]\n",
        "      "
      ],
      "metadata": {
        "colab": {
          "base_uri": "https://localhost:8080/"
        },
        "id": "zF6Uchrq2BPF",
        "outputId": "b244d800-58f6-4b44-a319-2166a579c910"
      },
      "execution_count": null,
      "outputs": [
        {
          "output_type": "execute_result",
          "data": {
            "text/plain": [
              "65"
            ]
          },
          "metadata": {},
          "execution_count": 50
        }
      ]
    },
    {
      "cell_type": "code",
      "source": [],
      "metadata": {
        "id": "b9PETgKY2RY2"
      },
      "execution_count": null,
      "outputs": []
    },
    {
      "cell_type": "markdown",
      "source": [
        "# Module 3 Python Programming Fundamentals\n"
      ],
      "metadata": {
        "id": "-we8qa2qoagG"
      }
    },
    {
      "cell_type": "code",
      "source": [
        "###### LAB #####\n",
        "\n",
        "#Rate Back in black 8.5\n",
        "rate = 8.5\n",
        "\n",
        "if rate >= 8:\n",
        "  print(\"This is Album is Amazing\")\n",
        "else:\n",
        "  print(\"This albums isn't amazing\")"
      ],
      "metadata": {
        "colab": {
          "base_uri": "https://localhost:8080/"
        },
        "id": "PQEuAr8Nop9v",
        "outputId": "8b5ed225-6e3e-4f2c-8535-caf0733fe484"
      },
      "execution_count": null,
      "outputs": [
        {
          "output_type": "stream",
          "name": "stdout",
          "text": [
            "This is Album is Amazing\n"
          ]
        }
      ]
    },
    {
      "cell_type": "markdown",
      "source": [
        "Loops:\n",
        "\n",
        "Range: the size of a list\n",
        "\n",
        "for\n",
        "while run under a condition"
      ],
      "metadata": {
        "id": "8ANI_efmvpRe"
      }
    }
  ]
}