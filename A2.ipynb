{
  "cells": [
    {
      "cell_type": "markdown",
      "metadata": {
        "id": "view-in-github",
        "colab_type": "text"
      },
      "source": [
        "<a href=\"https://colab.research.google.com/github/emm-gl/Referenz/blob/master/A2.ipynb\" target=\"_parent\"><img src=\"https://colab.research.google.com/assets/colab-badge.svg\" alt=\"Open In Colab\"/></a>"
      ]
    },
    {
      "cell_type": "code",
      "execution_count": null,
      "metadata": {
        "colab": {
          "base_uri": "https://localhost:8080/"
        },
        "id": "jT6y-E0K7Ane",
        "outputId": "4a17e1ef-ddd0-4e43-ccee-1ae9446b0b09"
      },
      "outputs": [
        {
          "output_type": "stream",
          "name": "stdout",
          "text": [
            "Mounted at /content/drive/\n"
          ]
        }
      ],
      "source": [
        "import tensorflow as tf\n",
        "from tensorflow.keras.datasets import mnist\n",
        "import numpy as np\n",
        "from tensorflow.keras.utils import to_categorical\n",
        "import cv2\n",
        "import matplotlib as plt\n",
        "\n",
        "from google.colab import drive\n",
        "drive.mount('/content/drive/')\n",
        "\n",
        "import glob\n",
        "\n",
        "from skimage. feature import hog\n",
        "import matplotlib.image as mpimg\n",
        "import matplotlib.pyplot as plt\n",
        "import seaborn as sns\n",
        "\n",
        "from PIL import Image\n",
        "import os\n",
        "\n"
      ]
    },
    {
      "cell_type": "code",
      "source": [
        "# Data\n",
        "x_test_path = '/content/drive/MyDrive/Datasets/Test.npy'\n",
        "x_train_path = '/content/drive/MyDrive/Datasets/Train.npy'\n",
        "y_test_path = '/content/drive/MyDrive/Datasets/y_test.npy'\n",
        "y_train_path = '/content/drive/MyDrive/Datasets/y_train.npy'\n",
        "\n",
        "x_test = np.load(x_test_path)\n",
        "x_train = np.load(x_train_path)\n",
        "y_test = np.load(y_test_path)\n",
        "y_train = np.load(y_train_path)"
      ],
      "metadata": {
        "id": "db9V8rJwXPIA"
      },
      "execution_count": null,
      "outputs": []
    },
    {
      "cell_type": "code",
      "execution_count": null,
      "metadata": {
        "colab": {
          "base_uri": "https://localhost:8080/"
        },
        "id": "BRYDrBqSBNx_",
        "outputId": "d939aeca-9930-45a6-b3e9-b253bab6ebe7"
      },
      "outputs": [
        {
          "output_type": "stream",
          "name": "stdout",
          "text": [
            "(39209, 28, 28)\n",
            "(12630, 28, 28)\n",
            "(39209,)\n",
            "(12630,)\n"
          ]
        }
      ],
      "source": [
        "print(x_train.shape)\n",
        "print(x_test.shape)\n",
        "print(y_train.shape)\n",
        "print(y_test.shape)"
      ]
    },
    {
      "cell_type": "code",
      "execution_count": null,
      "metadata": {
        "id": "lEh0kBIV_Q0w"
      },
      "outputs": [],
      "source": [
        "#Codigo para mostrar imagenes del set, no es necesario ejecutarlo, solo imprime unos numeros :)\n",
        "import matplotlib.pyplot as plt\n",
        "filas = 2\n",
        "columnas = 8\n",
        "num = filas*columnas\n",
        "imagenes = x_train[0:num]\n",
        "etiquetas = y_train[0:num]\n",
        "fig, axes = plt.subplots(filas, columnas, figsize=(1.5*columnas,2*filas))\n",
        "for i in range(num):\n",
        "     ax = axes[i//columnas, i%columnas]\n",
        "     ax.imshow(imagenes[i].reshape(28,28), cmap='gray_r')\n",
        "     ax.set_title('Label: {}'.format(np.argmax(etiquetas[i])))\n",
        "plt.tight_layout()\n",
        "plt.show()"
      ]
    },
    {
      "cell_type": "code",
      "source": [
        "#reshape just reinterprets the shape from (60000, 28, 28) to (60000, 28, 28, 1), because Keras needs four dimensions.\n",
        "x_train = np.reshape(x_train, np.append(x_train.shape, (1)))\n",
        "x_test = np.reshape(x_test, np.append(x_test.shape, (1)))\n",
        "\n",
        "print ('X Train', x_train.shape, ' -X Test', x_test.shape)\n",
        "print ('Y Train', y_train.shape, ' - Y Test', y_test.shape)"
      ],
      "metadata": {
        "colab": {
          "base_uri": "https://localhost:8080/"
        },
        "id": "sKwHd8r0hdEX",
        "outputId": "10c77256-4ea7-43d8-a2c8-746b7a40e579"
      },
      "execution_count": null,
      "outputs": [
        {
          "output_type": "stream",
          "name": "stdout",
          "text": [
            "X Train (39209, 28, 28, 1)  -X Test (12630, 28, 28, 1)\n",
            "Y Train (39209,)  - Y Test (12630,)\n"
          ]
        }
      ]
    },
    {
      "cell_type": "code",
      "source": [
        "#Normalizar las intensidades de las imágenes:\n",
        "#We should also resize the samples so that instead of being in the 0-255 range, they are in the 0-1 range, \n",
        "#as that helps the neural network to achieve better results:\n",
        "x_train = x_train.astype('float32') / 255\n",
        "x_test = x_test.astype('float32') / 255\n",
        "\n",
        "#One hot encoding the labels:\n",
        "y_train = to_categorical(y_train)\n",
        "y_test = to_categorical(y_test)\n"
      ],
      "metadata": {
        "id": "LHp4XjCLhjp-"
      },
      "execution_count": null,
      "outputs": []
    },
    {
      "cell_type": "code",
      "source": [
        "y_test[0]"
      ],
      "metadata": {
        "colab": {
          "base_uri": "https://localhost:8080/"
        },
        "id": "BzlS3u5KpxOC",
        "outputId": "1823ccec-11e0-4a26-ff57-a039a3894c32"
      },
      "execution_count": null,
      "outputs": [
        {
          "output_type": "execute_result",
          "data": {
            "text/plain": [
              "array([0., 0., 0., 0., 0., 0., 0., 0., 0., 0., 0., 0., 0., 0., 0., 0., 1.,\n",
              "       0., 0., 0., 0., 0., 0., 0., 0., 0., 0., 0., 0., 0., 0., 0., 0., 0.,\n",
              "       0., 0., 0., 0., 0., 0., 0., 0., 0.], dtype=float32)"
            ]
          },
          "metadata": {},
          "execution_count": 57
        }
      ]
    },
    {
      "cell_type": "code",
      "source": [
        "model = tf.keras.models.Sequential([\n",
        "\n",
        "  tf.keras.layers.Conv2D(filters=6, kernel_size=(5, 5), activation='relu', padding='same', input_shape = x_train.shape[1:]),\n",
        "  tf.keras.layers.MaxPooling2D(),\n",
        "  \n",
        "  tf.keras.layers.Conv2D(filters=16, kernel_size=(5,5), activation='relu'),\n",
        "  tf.keras.layers.MaxPooling2D(),\n",
        "  \n",
        "  tf.keras.layers.Flatten(),\n",
        "  tf.keras.layers.Dense(units=120, activation='relu'),\n",
        "  tf.keras.layers.Dense(units=84, activation='relu'),\n",
        "  tf.keras.layers.Dense(units=43, activation='softmax')\n",
        "])\n",
        "\n",
        "model.compile(loss = 'categorical_crossentropy', optimizer='adam',\n",
        "    metrics=['accuracy'])"
      ],
      "metadata": {
        "id": "zX9r2HixqDD_"
      },
      "execution_count": null,
      "outputs": []
    },
    {
      "cell_type": "code",
      "source": [
        "model.summary()"
      ],
      "metadata": {
        "colab": {
          "base_uri": "https://localhost:8080/"
        },
        "id": "Lu45gz3ut5Py",
        "outputId": "123fe8eb-9e71-4b0d-d7c5-776c3abd526e"
      },
      "execution_count": null,
      "outputs": [
        {
          "output_type": "stream",
          "name": "stdout",
          "text": [
            "Model: \"sequential_33\"\n",
            "_________________________________________________________________\n",
            " Layer (type)                Output Shape              Param #   \n",
            "=================================================================\n",
            " conv2d_52 (Conv2D)          (None, 28, 28, 6)         156       \n",
            "                                                                 \n",
            " max_pooling2d_49 (MaxPoolin  (None, 14, 14, 6)        0         \n",
            " g2D)                                                            \n",
            "                                                                 \n",
            " conv2d_53 (Conv2D)          (None, 10, 10, 16)        2416      \n",
            "                                                                 \n",
            " max_pooling2d_50 (MaxPoolin  (None, 5, 5, 16)         0         \n",
            " g2D)                                                            \n",
            "                                                                 \n",
            " flatten_24 (Flatten)        (None, 400)               0         \n",
            "                                                                 \n",
            " dense_60 (Dense)            (None, 120)               48120     \n",
            "                                                                 \n",
            " dense_61 (Dense)            (None, 84)                10164     \n",
            "                                                                 \n",
            " dense_62 (Dense)            (None, 43)                3655      \n",
            "                                                                 \n",
            "=================================================================\n",
            "Total params: 64,511\n",
            "Trainable params: 64,511\n",
            "Non-trainable params: 0\n",
            "_________________________________________________________________\n"
          ]
        }
      ]
    },
    {
      "cell_type": "code",
      "source": [
        "#Entrenar la red. Toma un buen rato! Ve por un café ;)\n",
        "#Oye suscribete al canal!\n",
        "print(\"Entrenando modelo...\");\n",
        "epocas=60\n",
        "history = model.fit(\n",
        "    x_train, y_train, batch_size=16,\n",
        "    epochs=epocas,\n",
        "    validation_data=(x_test, y_test), shuffle = True\n",
        ")\n",
        "\n",
        "print(\"Modelo entrenado!\");"
      ],
      "metadata": {
        "colab": {
          "base_uri": "https://localhost:8080/"
        },
        "id": "iYvkuz-TiSFS",
        "outputId": "8c0b4e58-3960-42f6-828a-e7e14e52916b"
      },
      "execution_count": null,
      "outputs": [
        {
          "output_type": "stream",
          "name": "stdout",
          "text": [
            "Entrenando modelo...\n",
            "Epoch 1/60\n",
            "2451/2451 [==============================] - 44s 18ms/step - loss: 0.5442 - accuracy: 0.8457 - val_loss: 0.6361 - val_accuracy: 0.8588\n",
            "Epoch 2/60\n",
            "2451/2451 [==============================] - 45s 18ms/step - loss: 0.1844 - accuracy: 0.9503 - val_loss: 0.5690 - val_accuracy: 0.8863\n",
            "Epoch 3/60\n",
            "2451/2451 [==============================] - 44s 18ms/step - loss: 0.1110 - accuracy: 0.9683 - val_loss: 0.5626 - val_accuracy: 0.8985\n",
            "Epoch 4/60\n",
            "2451/2451 [==============================] - 43s 18ms/step - loss: 0.0797 - accuracy: 0.9781 - val_loss: 0.6166 - val_accuracy: 0.9006\n",
            "Epoch 5/60\n",
            "2451/2451 [==============================] - 43s 17ms/step - loss: 0.0595 - accuracy: 0.9831 - val_loss: 0.4759 - val_accuracy: 0.9137\n",
            "Epoch 6/60\n",
            "2451/2451 [==============================] - 49s 20ms/step - loss: 0.0482 - accuracy: 0.9851 - val_loss: 0.6635 - val_accuracy: 0.8945\n",
            "Epoch 7/60\n",
            "2451/2451 [==============================] - 53s 21ms/step - loss: 0.0409 - accuracy: 0.9884 - val_loss: 0.7499 - val_accuracy: 0.8914\n",
            "Epoch 8/60\n",
            "2451/2451 [==============================] - 43s 17ms/step - loss: 0.0361 - accuracy: 0.9887 - val_loss: 0.6142 - val_accuracy: 0.9175\n",
            "Epoch 9/60\n",
            "2451/2451 [==============================] - 43s 17ms/step - loss: 0.0317 - accuracy: 0.9905 - val_loss: 0.7036 - val_accuracy: 0.9034\n",
            "Epoch 10/60\n",
            "2451/2451 [==============================] - 46s 19ms/step - loss: 0.0328 - accuracy: 0.9896 - val_loss: 0.7606 - val_accuracy: 0.9124\n",
            "Epoch 11/60\n",
            "2451/2451 [==============================] - 43s 17ms/step - loss: 0.0263 - accuracy: 0.9921 - val_loss: 0.7546 - val_accuracy: 0.9149\n",
            "Epoch 12/60\n",
            "2451/2451 [==============================] - 48s 20ms/step - loss: 0.0303 - accuracy: 0.9921 - val_loss: 0.7104 - val_accuracy: 0.9101\n",
            "Epoch 13/60\n",
            "2451/2451 [==============================] - 43s 18ms/step - loss: 0.0193 - accuracy: 0.9940 - val_loss: 0.7518 - val_accuracy: 0.9120\n",
            "Epoch 14/60\n",
            "2451/2451 [==============================] - 45s 18ms/step - loss: 0.0231 - accuracy: 0.9932 - val_loss: 1.0364 - val_accuracy: 0.9028\n",
            "Epoch 15/60\n",
            "2451/2451 [==============================] - 43s 18ms/step - loss: 0.0255 - accuracy: 0.9925 - val_loss: 1.0072 - val_accuracy: 0.9092\n",
            "Epoch 16/60\n",
            "2451/2451 [==============================] - 43s 17ms/step - loss: 0.0213 - accuracy: 0.9936 - val_loss: 0.8606 - val_accuracy: 0.9157\n",
            "Epoch 17/60\n",
            "2451/2451 [==============================] - 42s 17ms/step - loss: 0.0257 - accuracy: 0.9934 - val_loss: 0.7732 - val_accuracy: 0.9173\n",
            "Epoch 18/60\n",
            "2451/2451 [==============================] - 43s 17ms/step - loss: 0.0187 - accuracy: 0.9948 - val_loss: 0.8918 - val_accuracy: 0.9153\n",
            "Epoch 19/60\n",
            "2451/2451 [==============================] - 45s 18ms/step - loss: 0.0193 - accuracy: 0.9943 - val_loss: 0.9985 - val_accuracy: 0.9128\n",
            "Epoch 20/60\n",
            "2451/2451 [==============================] - 47s 19ms/step - loss: 0.0196 - accuracy: 0.9948 - val_loss: 0.9296 - val_accuracy: 0.9200\n",
            "Epoch 21/60\n",
            "2451/2451 [==============================] - 44s 18ms/step - loss: 0.0199 - accuracy: 0.9946 - val_loss: 0.9419 - val_accuracy: 0.9146\n",
            "Epoch 22/60\n",
            "2451/2451 [==============================] - 43s 17ms/step - loss: 0.0168 - accuracy: 0.9954 - val_loss: 0.8732 - val_accuracy: 0.9199\n",
            "Epoch 23/60\n",
            "2451/2451 [==============================] - 49s 20ms/step - loss: 0.0210 - accuracy: 0.9948 - val_loss: 0.9548 - val_accuracy: 0.9196\n",
            "Epoch 24/60\n",
            "2451/2451 [==============================] - 43s 17ms/step - loss: 0.0160 - accuracy: 0.9958 - val_loss: 1.1162 - val_accuracy: 0.9139\n",
            "Epoch 25/60\n",
            "2451/2451 [==============================] - 47s 19ms/step - loss: 0.0202 - accuracy: 0.9947 - val_loss: 0.8933 - val_accuracy: 0.9155\n",
            "Epoch 26/60\n",
            "2451/2451 [==============================] - 43s 18ms/step - loss: 0.0229 - accuracy: 0.9944 - val_loss: 0.9425 - val_accuracy: 0.9239\n",
            "Epoch 27/60\n",
            "2451/2451 [==============================] - 45s 18ms/step - loss: 0.0116 - accuracy: 0.9969 - val_loss: 0.9471 - val_accuracy: 0.9245\n",
            "Epoch 28/60\n",
            "2451/2451 [==============================] - 47s 19ms/step - loss: 0.0211 - accuracy: 0.9948 - val_loss: 1.2211 - val_accuracy: 0.9112\n",
            "Epoch 29/60\n",
            "2451/2451 [==============================] - 43s 17ms/step - loss: 0.0185 - accuracy: 0.9951 - val_loss: 1.1690 - val_accuracy: 0.9166\n",
            "Epoch 30/60\n",
            "2451/2451 [==============================] - 43s 17ms/step - loss: 0.0148 - accuracy: 0.9968 - val_loss: 1.1472 - val_accuracy: 0.9169\n",
            "Epoch 31/60\n",
            "2451/2451 [==============================] - 42s 17ms/step - loss: 0.0161 - accuracy: 0.9958 - val_loss: 1.3357 - val_accuracy: 0.9106\n",
            "Epoch 32/60\n",
            "2451/2451 [==============================] - 44s 18ms/step - loss: 0.0203 - accuracy: 0.9957 - val_loss: 1.1041 - val_accuracy: 0.9200\n",
            "Epoch 33/60\n",
            "2451/2451 [==============================] - 43s 18ms/step - loss: 0.0162 - accuracy: 0.9963 - val_loss: 1.4919 - val_accuracy: 0.9159\n",
            "Epoch 34/60\n",
            "2451/2451 [==============================] - 44s 18ms/step - loss: 0.0217 - accuracy: 0.9952 - val_loss: 1.1386 - val_accuracy: 0.9196\n",
            "Epoch 35/60\n",
            "2451/2451 [==============================] - 48s 20ms/step - loss: 0.0170 - accuracy: 0.9961 - val_loss: 1.2416 - val_accuracy: 0.9044\n",
            "Epoch 36/60\n",
            "2451/2451 [==============================] - 45s 18ms/step - loss: 0.0185 - accuracy: 0.9960 - val_loss: 1.2196 - val_accuracy: 0.9139\n",
            "Epoch 37/60\n",
            "2451/2451 [==============================] - 43s 18ms/step - loss: 0.0154 - accuracy: 0.9962 - val_loss: 1.0864 - val_accuracy: 0.9211\n",
            "Epoch 38/60\n",
            "2451/2451 [==============================] - 48s 20ms/step - loss: 0.0159 - accuracy: 0.9963 - val_loss: 1.4950 - val_accuracy: 0.9195\n",
            "Epoch 39/60\n",
            "2451/2451 [==============================] - 43s 18ms/step - loss: 0.0192 - accuracy: 0.9959 - val_loss: 1.3123 - val_accuracy: 0.9263\n",
            "Epoch 40/60\n",
            "2451/2451 [==============================] - 46s 19ms/step - loss: 0.0196 - accuracy: 0.9961 - val_loss: 1.4692 - val_accuracy: 0.9173\n",
            "Epoch 41/60\n",
            "2451/2451 [==============================] - 48s 19ms/step - loss: 0.0143 - accuracy: 0.9967 - val_loss: 1.3914 - val_accuracy: 0.9233\n",
            "Epoch 42/60\n",
            "2451/2451 [==============================] - 44s 18ms/step - loss: 0.0171 - accuracy: 0.9967 - val_loss: 1.5399 - val_accuracy: 0.9178\n",
            "Epoch 43/60\n",
            "2451/2451 [==============================] - 43s 18ms/step - loss: 0.0196 - accuracy: 0.9960 - val_loss: 1.4094 - val_accuracy: 0.9178\n",
            "Epoch 44/60\n",
            "2451/2451 [==============================] - 47s 19ms/step - loss: 0.0136 - accuracy: 0.9969 - val_loss: 1.5770 - val_accuracy: 0.9232\n",
            "Epoch 45/60\n",
            "2451/2451 [==============================] - 43s 17ms/step - loss: 0.0200 - accuracy: 0.9959 - val_loss: 1.3198 - val_accuracy: 0.9226\n",
            "Epoch 46/60\n",
            "2451/2451 [==============================] - 42s 17ms/step - loss: 0.0181 - accuracy: 0.9963 - val_loss: 1.4406 - val_accuracy: 0.9281\n",
            "Epoch 47/60\n",
            "2451/2451 [==============================] - 42s 17ms/step - loss: 0.0126 - accuracy: 0.9978 - val_loss: 1.3735 - val_accuracy: 0.9267\n",
            "Epoch 48/60\n",
            "2451/2451 [==============================] - 43s 18ms/step - loss: 0.0178 - accuracy: 0.9964 - val_loss: 1.5570 - val_accuracy: 0.9187\n",
            "Epoch 49/60\n",
            "2451/2451 [==============================] - 46s 19ms/step - loss: 0.0183 - accuracy: 0.9961 - val_loss: 1.6602 - val_accuracy: 0.9026\n",
            "Epoch 50/60\n",
            "2451/2451 [==============================] - 43s 18ms/step - loss: 0.0184 - accuracy: 0.9965 - val_loss: 1.5724 - val_accuracy: 0.9242\n",
            "Epoch 51/60\n",
            "2451/2451 [==============================] - 43s 18ms/step - loss: 0.0186 - accuracy: 0.9971 - val_loss: 1.7572 - val_accuracy: 0.9205\n",
            "Epoch 52/60\n",
            "2451/2451 [==============================] - 42s 17ms/step - loss: 0.0203 - accuracy: 0.9963 - val_loss: 1.5726 - val_accuracy: 0.9283\n",
            "Epoch 53/60\n",
            "2451/2451 [==============================] - 45s 18ms/step - loss: 0.0187 - accuracy: 0.9970 - val_loss: 1.7037 - val_accuracy: 0.9256\n",
            "Epoch 54/60\n",
            "2451/2451 [==============================] - 43s 18ms/step - loss: 0.0179 - accuracy: 0.9967 - val_loss: 1.4410 - val_accuracy: 0.9257\n",
            "Epoch 55/60\n",
            "2451/2451 [==============================] - 43s 18ms/step - loss: 0.0113 - accuracy: 0.9980 - val_loss: 1.8624 - val_accuracy: 0.9215\n",
            "Epoch 56/60\n",
            "2451/2451 [==============================] - 43s 18ms/step - loss: 0.0150 - accuracy: 0.9968 - val_loss: 1.8936 - val_accuracy: 0.9239\n",
            "Epoch 57/60\n",
            "2451/2451 [==============================] - 43s 18ms/step - loss: 0.0213 - accuracy: 0.9964 - val_loss: 1.6228 - val_accuracy: 0.9287\n",
            "Epoch 58/60\n",
            "2451/2451 [==============================] - 49s 20ms/step - loss: 0.0144 - accuracy: 0.9974 - val_loss: 1.5176 - val_accuracy: 0.9307\n",
            "Epoch 59/60\n",
            "2451/2451 [==============================] - 43s 17ms/step - loss: 0.0143 - accuracy: 0.9974 - val_loss: 1.6366 - val_accuracy: 0.9237\n",
            "Epoch 60/60\n",
            "2451/2451 [==============================] - 42s 17ms/step - loss: 0.0220 - accuracy: 0.9965 - val_loss: 1.5942 - val_accuracy: 0.9278\n",
            "Modelo entrenado!\n"
          ]
        }
      ]
    },
    {
      "cell_type": "code",
      "source": [
        "scores = model.evaluate(x_test, y_test, verbose=1)\n",
        "print('Test loss:', scores[0])\n",
        "print('Test accuracy:', scores[1])"
      ],
      "metadata": {
        "colab": {
          "base_uri": "https://localhost:8080/"
        },
        "id": "_SvbZEFAyppO",
        "outputId": "bb14cd68-ff91-4486-fa62-c034ba2997c4"
      },
      "execution_count": null,
      "outputs": [
        {
          "output_type": "stream",
          "name": "stdout",
          "text": [
            "395/395 [==============================] - 4s 9ms/step - loss: 1.5942 - accuracy: 0.9278\n",
            "Test loss: 1.5941606760025024\n",
            "Test accuracy: 0.9277909994125366\n"
          ]
        }
      ]
    },
    {
      "cell_type": "code",
      "source": [
        "plt.plot(history.history['loss'])\n",
        "plt.plot(history.history['val_loss'])\n",
        "plt.legend(['loss', 'val_loss'])\n",
        "plt.title('Loss')\n",
        "plt.xlabel('epoch')"
      ],
      "metadata": {
        "colab": {
          "base_uri": "https://localhost:8080/",
          "height": 489
        },
        "id": "-k72cBlMytEp",
        "outputId": "d9d96273-324d-4ce7-96ea-d8cdd9ca73f9"
      },
      "execution_count": null,
      "outputs": [
        {
          "output_type": "execute_result",
          "data": {
            "text/plain": [
              "Text(0.5, 0, 'epoch')"
            ]
          },
          "metadata": {},
          "execution_count": 118
        },
        {
          "output_type": "display_data",
          "data": {
            "text/plain": [
              "<Figure size 640x480 with 1 Axes>"
            ],
            "image/png": "[encoded data removed]"
          },
          "metadata": {}
        }
      ]
    },
    {
      "cell_type": "code",
      "source": [
        "plt.plot(history.history['accuracy'])\n",
        "plt.plot(history.history['val_accuracy'])\n",
        "plt.legend(['acc', 'val_acc'])\n",
        "plt.title('Accuracy')\n",
        "plt.xlabel('epoch')"
      ],
      "metadata": {
        "colab": {
          "base_uri": "https://localhost:8080/",
          "height": 489
        },
        "id": "GJciAVMDy3BE",
        "outputId": "3a2fc953-0765-4658-fa53-772bba9f8029"
      },
      "execution_count": null,
      "outputs": [
        {
          "output_type": "execute_result",
          "data": {
            "text/plain": [
              "Text(0.5, 0, 'epoch')"
            ]
          },
          "metadata": {},
          "execution_count": 119
        },
        {
          "output_type": "display_data",
          "data": {
            "text/plain": [
              "<Figure size 640x480 with 1 Axes>"
            ],
            "image/png": "[encoded data removed]"
          },
          "metadata": {}
        }
      ]
    }
  ],
  "metadata": {
    "accelerator": "GPU",
    "colab": {
      "provenance": [],
      "gpuType": "T4",
      "authorship_tag": "ABX9TyNih/t0UqvQEl7EH5OdNWeg",
      "include_colab_link": true
    },
    "kernelspec": {
      "display_name": "Python 3",
      "name": "python3"
    },
    "language_info": {
      "name": "python"
    }
  },
  "nbformat": 4,
  "nbformat_minor": 0
}